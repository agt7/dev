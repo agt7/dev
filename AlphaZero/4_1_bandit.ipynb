{
  "nbformat": 4,
  "nbformat_minor": 0,
  "metadata": {
    "colab": {
      "name": "4_1_bandit.ipynb",
      "provenance": [],
      "collapsed_sections": [],
      "toc_visible": true,
      "include_colab_link": true
    },
    "kernelspec": {
      "display_name": "Python 3",
      "language": "python",
      "name": "python3"
    }
  },
  "cells": [
    {
      "cell_type": "markdown",
      "metadata": {
        "id": "view-in-github",
        "colab_type": "text"
      },
      "source": [
        "<a href=\"https://colab.research.google.com/github/agt7/dev/blob/master/AlphaZero/4_1_bandit.ipynb\" target=\"_parent\"><img src=\"https://colab.research.google.com/assets/colab-badge.svg\" alt=\"Open In Colab\"/></a>"
      ]
    },
    {
      "cell_type": "code",
      "metadata": {
        "id": "XHl3ZTN6Fxtq"
      },
      "source": [
        "# パッケージのインポート\n",
        "import numpy as np\n",
        "import random\n",
        "import math\n",
        "import pandas as pd\n",
        "import matplotlib.pyplot as plt\n",
        "%matplotlib inline"
      ],
      "execution_count": 9,
      "outputs": []
    },
    {
      "cell_type": "code",
      "metadata": {
        "id": "yT7QETvRFxtz"
      },
      "source": [
        "# ε-greedyの計算処理の作成\n",
        "class EpsilonGreedy():\n",
        "    # ε-greedyの計算処理の初期化\n",
        "    def __init__(self, epsilon):\n",
        "        self.epsilon = epsilon # 探索する確率\n",
        "\n",
        "    # 試行回数と価値のリセット\n",
        "    def initialize(self, n_arms):\n",
        "        self.n = np.zeros(n_arms) # 各アームの試行回数\n",
        "        self.v = np.zeros(n_arms) # 各アームの価値\n",
        "\n",
        "    # アームの選択\n",
        "    def select_arm(self):\n",
        "        if self.epsilon > random.random():\n",
        "            # ランダムにアームを選択\n",
        "            return np.random.randint(0, len(self.v))\n",
        "        else:\n",
        "            # 価値が高いアームを選択\n",
        "            return np.argmax(self.v)\n",
        "\n",
        "    # アルゴリズムのパラメータの更新\n",
        "    def update(self, chosen_arm, reward, t):\n",
        "        # 選択したアームの試行回数に1加算\n",
        "        self.n[chosen_arm] += 1\n",
        "\n",
        "        # 選択したアームの価値の更新\n",
        "        n = self.n[chosen_arm]\n",
        "        v = self.v[chosen_arm]\n",
        "        self.v[chosen_arm] = ((n-1) / float(n)) * v + (1 / float(n)) * reward\n",
        "\n",
        "    # 文字列情報の取得\n",
        "    def label(self):\n",
        "        return 'ε-greedy('+str(self.epsilon)+')'"
      ],
      "execution_count": 10,
      "outputs": []
    },
    {
      "cell_type": "code",
      "metadata": {
        "id": "_oleyosjFxt2"
      },
      "source": [
        "# UCB1アルゴリズム\n",
        "class UCB1():\n",
        "    # 試行回数と成功回数と価値のリセット\n",
        "    def initialize(self, n_arms): \n",
        "        self.n = np.zeros(n_arms) # 各アームの試行回数\n",
        "        self.w = np.zeros(n_arms) # 各アームの成功回数\n",
        "        self.v = np.zeros(n_arms) # 各アームの価値\n",
        "    \n",
        "    # アームの選択\n",
        "    def select_arm(self):\n",
        "        # nが全て1以上になるようにアームを選択\n",
        "        for i in range(len(self.n)):\n",
        "            if self.n[i] == 0:\n",
        "                return i\n",
        "        \n",
        "        # 価値が高いアームを選択\n",
        "        return np.argmax(self.v)\n",
        "        \n",
        "    # アルゴリズムのパラメータの更新\n",
        "    def update(self, chosen_arm, reward, ｔ):\n",
        "        # 選択したアームの試行回数に1加算\n",
        "        self.n[chosen_arm] += 1\n",
        "\n",
        "        # 成功時は選択したアームの成功回数に1加算\n",
        "        if reward == 1.0:\n",
        "            self.w[chosen_arm] += 1\n",
        "        \n",
        "        # 試行回数が0のアームの存在時は価値を更新しない\n",
        "        for i in range(len(self.n)):\n",
        "            if self.n[i] == 0:\n",
        "                return\n",
        "        \n",
        "        # 各アームの価値の更新\n",
        "        for i in range(len(self.v)):\n",
        "            self.v[i] = self.w[i] / self.n[i] + (2 * math.log(t) / self.n[i]) ** 0.5\n",
        "        \n",
        "    # 文字列情報の取得\n",
        "    def label(self):\n",
        "        return 'ucb1'"
      ],
      "execution_count": 11,
      "outputs": []
    },
    {
      "cell_type": "code",
      "metadata": {
        "id": "gR2GapfILuKm",
        "outputId": "9f0f3b72-f038-4150-b687-f68e5281b59d",
        "colab": {
          "base_uri": "https://localhost:8080/",
          "height": 34
        }
      },
      "source": [
        "from google.colab import drive\n",
        "drive.mount('/content/drive')"
      ],
      "execution_count": 12,
      "outputs": [
        {
          "output_type": "stream",
          "text": [
            "Drive already mounted at /content/drive; to attempt to forcibly remount, call drive.mount(\"/content/drive\", force_remount=True).\n"
          ],
          "name": "stdout"
        }
      ]
    },
    {
      "cell_type": "code",
      "metadata": {
        "id": "vCvFjhmvFxt5"
      },
      "source": [
        "# シミュレーションの実行\n",
        "def play(algo, arms, num_sims, num_time):\n",
        "    # 履歴の準備\n",
        "    times = np.zeros(num_sims * num_time) # ゲーム回数の何回目か\n",
        "    rewards = np.zeros(num_sims * num_time) # 報酬\n",
        "\n",
        "    # シミュレーション回数分ループ\n",
        "    for sim in range(num_sims):\n",
        "        algo.initialize(len(arms)) # アルゴリズム設定の初期化\n",
        "\n",
        "        # ゲーム回数分ループ\n",
        "        for time in range(num_time):\n",
        "            # インデックスの計算\n",
        "            index = sim * num_time + time\n",
        "\n",
        "            # 履歴の計算\n",
        "            times[index] = time+1\n",
        "            chosen_arm = algo.select_arm()\n",
        "            reward = arms[chosen_arm].draw()\n",
        "            rewards[index] = reward\n",
        "\n",
        "            # アルゴリズムのパラメータの更新\n",
        "            algo.update(chosen_arm, reward, time+1)\n",
        "\n",
        "    # [ゲーム回数の何回目か, 報酬]\n",
        "    return [times, rewards]"
      ],
      "execution_count": 13,
      "outputs": []
    },
    {
      "cell_type": "code",
      "metadata": {
        "id": "6fI4hciUFxtw"
      },
      "source": [
        "# スロットのアームの作成\n",
        "class SlotArm():\n",
        "    # スロットのアームの初期化\n",
        "    def __init__(self, p):\n",
        "        self.p = p # コインが出る確率\n",
        "\n",
        "    # アームを選択した時の報酬の取得\n",
        "    def draw(self):\n",
        "        if self.p > random.random() :\n",
        "            return 1.0\n",
        "        else:\n",
        "            return 0.0"
      ],
      "execution_count": 14,
      "outputs": []
    },
    {
      "cell_type": "code",
      "metadata": {
        "id": "rA55x6PlFxt8",
        "outputId": "748b7ee8-1b57-4881-aeb6-40e42e4bab9b",
        "colab": {
          "base_uri": "https://localhost:8080/",
          "height": 279
        }
      },
      "source": [
        "# アームの準備\n",
        "arms = (SlotArm(0.3), SlotArm(0.5), SlotArm(0.9))\n",
        "\n",
        "# アルゴリズムの準備\n",
        "algos = (EpsilonGreedy(0.1),  UCB1())\n",
        "\n",
        "for algo in algos:\n",
        "    # シミュレーションの実行\n",
        "    results = play(algo, arms, 1000, 250)\n",
        "    \n",
        "    # グラフの表示\n",
        "    df = pd.DataFrame({'times': results[0], 'rewards': results[1]})\n",
        "    mean = df['rewards'].groupby(df['times']).mean()\n",
        "    plt.plot(mean, label=algo.label()) \n",
        "\n",
        "# グラフの表示\n",
        "plt.xlabel('Step')\n",
        "plt.ylabel('Average Reward')\n",
        "plt.legend(loc='best')\n",
        "plt.show()"
      ],
      "execution_count": 15,
      "outputs": [
        {
          "output_type": "display_data",
          "data": {
            "image/png": "[encoded data removed]",
            "text/plain": [
              "<Figure size 432x288 with 1 Axes>"
            ]
          },
          "metadata": {
            "tags": [],
            "needs_background": "light"
          }
        }
      ]
    }
  ]
}