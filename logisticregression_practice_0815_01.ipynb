{
  "nbformat": 4,
  "nbformat_minor": 0,
  "metadata": {
    "kernelspec": {
      "display_name": "Python 3",
      "language": "python",
      "name": "python3"
    },
    "language_info": {
      "codemirror_mode": {
        "name": "ipython",
        "version": 3
      },
      "file_extension": ".py",
      "mimetype": "text/x-python",
      "name": "python",
      "nbconvert_exporter": "python",
      "pygments_lexer": "ipython3",
      "version": "3.7.6"
    },
    "papermill": {
      "duration": 53.676289,
      "end_time": "2020-08-15T08:03:53.332228",
      "environment_variables": {},
      "exception": null,
      "input_path": "__notebook__.ipynb",
      "output_path": "__notebook__.ipynb",
      "parameters": {},
      "start_time": "2020-08-15T08:02:59.655939",
      "version": "2.1.0"
    },
    "colab": {
      "name": "logisticregression-practice-0815_01.ipynb",
      "provenance": [],
      "include_colab_link": true
    }
  },
  "cells": [
    {
      "cell_type": "markdown",
      "metadata": {
        "id": "view-in-github",
        "colab_type": "text"
      },
      "source": [
        "<a href=\"https://colab.research.google.com/github/agt7/dev/blob/master/logisticregression_practice_0815_01.ipynb\" target=\"_parent\"><img src=\"https://colab.research.google.com/assets/colab-badge.svg\" alt=\"Open In Colab\"/></a>"
      ]
    },
    {
      "cell_type": "code",
      "metadata": {
        "_cell_guid": "79c7e3d0-c299-4dcb-8224-4455121ee9b0",
        "_uuid": "d629ff2d2480ee46fbb7e2d37f6b5fab8052498a",
        "execution": {
          "iopub.execute_input": "2020-08-15T08:03:04.093407Z",
          "iopub.status.busy": "2020-08-15T08:03:04.092311Z",
          "iopub.status.idle": "2020-08-15T08:03:04.095638Z",
          "shell.execute_reply": "2020-08-15T08:03:04.094998Z"
        },
        "papermill": {
          "duration": 0.025958,
          "end_time": "2020-08-15T08:03:04.095776",
          "exception": false,
          "start_time": "2020-08-15T08:03:04.069818",
          "status": "completed"
        },
        "tags": [],
        "id": "drke-ZLTqRJa"
      },
      "source": [
        "import numpy as np\n",
        "import pandas as pd\n",
        "import matplotlib.pyplot as plt\n",
        "%matplotlib inline"
      ],
      "execution_count": null,
      "outputs": []
    },
    {
      "cell_type": "code",
      "metadata": {
        "execution": {
          "iopub.execute_input": "2020-08-15T08:03:04.130580Z",
          "iopub.status.busy": "2020-08-15T08:03:04.129769Z",
          "iopub.status.idle": "2020-08-15T08:03:17.171551Z",
          "shell.execute_reply": "2020-08-15T08:03:17.170417Z"
        },
        "papermill": {
          "duration": 13.062632,
          "end_time": "2020-08-15T08:03:17.171751",
          "exception": false,
          "start_time": "2020-08-15T08:03:04.109119",
          "status": "completed"
        },
        "tags": [],
        "id": "r6ZpVRBnqRJf"
      },
      "source": [
        "train_df = pd.read_csv(\"../input/avazu-ctr-prediction/train.gz\", nrows=100000)\n",
        "unused_cols = [\"id\", \"hour\", \"device_id\", \"device_ip\"]\n",
        "label_col = \"click\"\n",
        "train_df = train_df.drop(unused_cols, axis=1)\n",
        "X_dict_train = list(train_df.drop(label_col, axis=1).T.to_dict().values())\n",
        "y_train = train_df[label_col]"
      ],
      "execution_count": null,
      "outputs": []
    },
    {
      "cell_type": "code",
      "metadata": {
        "execution": {
          "iopub.execute_input": "2020-08-15T08:03:17.205677Z",
          "iopub.status.busy": "2020-08-15T08:03:17.204451Z",
          "iopub.status.idle": "2020-08-15T08:03:30.234096Z",
          "shell.execute_reply": "2020-08-15T08:03:30.232973Z"
        },
        "papermill": {
          "duration": 13.049559,
          "end_time": "2020-08-15T08:03:30.234280",
          "exception": false,
          "start_time": "2020-08-15T08:03:17.184721",
          "status": "completed"
        },
        "tags": [],
        "id": "5fheNSHIqRJi"
      },
      "source": [
        "test_df = pd.read_csv(\"../input/avazu-ctr-prediction/train.gz\", header=0, skiprows=(1,100000), nrows=100000)\n",
        "test_df = test_df.drop(unused_cols, axis=1)\n",
        "X_dict_test = list(test_df.T.to_dict().values())\n",
        "y_test = test_df[label_col]"
      ],
      "execution_count": null,
      "outputs": []
    },
    {
      "cell_type": "code",
      "metadata": {
        "execution": {
          "iopub.execute_input": "2020-08-15T08:03:30.267073Z",
          "iopub.status.busy": "2020-08-15T08:03:30.266298Z",
          "iopub.status.idle": "2020-08-15T08:03:37.246545Z",
          "shell.execute_reply": "2020-08-15T08:03:37.245869Z"
        },
        "papermill": {
          "duration": 6.999148,
          "end_time": "2020-08-15T08:03:37.246680",
          "exception": false,
          "start_time": "2020-08-15T08:03:30.247532",
          "status": "completed"
        },
        "tags": [],
        "id": "n926uK58qRJl"
      },
      "source": [
        "from sklearn.feature_extraction import DictVectorizer\n",
        "\n",
        "vectorizer = DictVectorizer(sparse=True)\n",
        "X_train = vectorizer.fit_transform(X_dict_train)\n",
        "X_test = vectorizer.transform(X_dict_test)"
      ],
      "execution_count": null,
      "outputs": []
    },
    {
      "cell_type": "code",
      "metadata": {
        "execution": {
          "iopub.execute_input": "2020-08-15T08:03:37.279035Z",
          "iopub.status.busy": "2020-08-15T08:03:37.278208Z",
          "iopub.status.idle": "2020-08-15T08:03:39.633722Z",
          "shell.execute_reply": "2020-08-15T08:03:39.633047Z"
        },
        "papermill": {
          "duration": 2.373795,
          "end_time": "2020-08-15T08:03:39.633896",
          "exception": false,
          "start_time": "2020-08-15T08:03:37.260101",
          "status": "completed"
        },
        "tags": [],
        "id": "xPmqTC1nqRJo",
        "outputId": "4e4cee30-138c-4136-9421-e642234259dd"
      },
      "source": [
        "from sklearn.linear_model import LogisticRegression\n",
        "\n",
        "clf = LogisticRegression()\n",
        "clf.fit(X_train, y_train)"
      ],
      "execution_count": null,
      "outputs": [
        {
          "output_type": "stream",
          "text": [
            "/opt/conda/lib/python3.7/site-packages/sklearn/linear_model/_logistic.py:764: ConvergenceWarning: lbfgs failed to converge (status=1):\n",
            "STOP: TOTAL NO. of ITERATIONS REACHED LIMIT.\n",
            "\n",
            "Increase the number of iterations (max_iter) or scale the data as shown in:\n",
            "    https://scikit-learn.org/stable/modules/preprocessing.html\n",
            "Please also refer to the documentation for alternative solver options:\n",
            "    https://scikit-learn.org/stable/modules/linear_model.html#logistic-regression\n",
            "  extra_warning_msg=_LOGISTIC_SOLVER_CONVERGENCE_MSG)\n"
          ],
          "name": "stderr"
        },
        {
          "output_type": "execute_result",
          "data": {
            "text/plain": [
              "LogisticRegression()"
            ]
          },
          "metadata": {
            "tags": []
          },
          "execution_count": 5
        }
      ]
    },
    {
      "cell_type": "code",
      "metadata": {
        "execution": {
          "iopub.execute_input": "2020-08-15T08:03:39.672207Z",
          "iopub.status.busy": "2020-08-15T08:03:39.671166Z",
          "iopub.status.idle": "2020-08-15T08:03:52.381605Z",
          "shell.execute_reply": "2020-08-15T08:03:52.382205Z"
        },
        "papermill": {
          "duration": 12.732527,
          "end_time": "2020-08-15T08:03:52.382389",
          "exception": false,
          "start_time": "2020-08-15T08:03:39.649862",
          "status": "completed"
        },
        "tags": [],
        "id": "rgV7iwRGqRJs",
        "outputId": "4c201921-6e9e-431d-aaab-e037f9fc875b"
      },
      "source": [
        "from sklearn.model_selection import GridSearchCV\n",
        "\n",
        "parameters = {'C': [0.01, 0.1, 1, 10, 100], \"penalty\": [\"l1\", \"l2\"]}\n",
        "grid_search = GridSearchCV(clf, parameters, n_jobs=-1, cv=3, scoring=\"roc_auc\")\n",
        "grid_search.fit(X_train, y_train)"
      ],
      "execution_count": null,
      "outputs": [
        {
          "output_type": "stream",
          "text": [
            "/opt/conda/lib/python3.7/site-packages/sklearn/linear_model/_logistic.py:764: ConvergenceWarning: lbfgs failed to converge (status=1):\n",
            "STOP: TOTAL NO. of ITERATIONS REACHED LIMIT.\n",
            "\n",
            "Increase the number of iterations (max_iter) or scale the data as shown in:\n",
            "    https://scikit-learn.org/stable/modules/preprocessing.html\n",
            "Please also refer to the documentation for alternative solver options:\n",
            "    https://scikit-learn.org/stable/modules/linear_model.html#logistic-regression\n",
            "  extra_warning_msg=_LOGISTIC_SOLVER_CONVERGENCE_MSG)\n"
          ],
          "name": "stderr"
        },
        {
          "output_type": "execute_result",
          "data": {
            "text/plain": [
              "GridSearchCV(cv=3, estimator=LogisticRegression(), n_jobs=-1,\n",
              "             param_grid={'C': [0.01, 0.1, 1, 10, 100], 'penalty': ['l1', 'l2']},\n",
              "             scoring='roc_auc')"
            ]
          },
          "metadata": {
            "tags": []
          },
          "execution_count": 6
        }
      ]
    },
    {
      "cell_type": "code",
      "metadata": {
        "execution": {
          "iopub.execute_input": "2020-08-15T08:03:52.420262Z",
          "iopub.status.busy": "2020-08-15T08:03:52.419148Z",
          "iopub.status.idle": "2020-08-15T08:03:52.424201Z",
          "shell.execute_reply": "2020-08-15T08:03:52.423576Z"
        },
        "papermill": {
          "duration": 0.026627,
          "end_time": "2020-08-15T08:03:52.424330",
          "exception": false,
          "start_time": "2020-08-15T08:03:52.397703",
          "status": "completed"
        },
        "tags": [],
        "id": "OHjQO1ByqRJv",
        "outputId": "bf4b6f22-1172-4643-d8f3-59b2c400acb8"
      },
      "source": [
        "grid_search.best_params_"
      ],
      "execution_count": null,
      "outputs": [
        {
          "output_type": "execute_result",
          "data": {
            "text/plain": [
              "{'C': 100, 'penalty': 'l2'}"
            ]
          },
          "metadata": {
            "tags": []
          },
          "execution_count": 7
        }
      ]
    },
    {
      "cell_type": "code",
      "metadata": {
        "execution": {
          "iopub.execute_input": "2020-08-15T08:03:52.461872Z",
          "iopub.status.busy": "2020-08-15T08:03:52.460760Z",
          "iopub.status.idle": "2020-08-15T08:03:52.464248Z",
          "shell.execute_reply": "2020-08-15T08:03:52.463636Z"
        },
        "papermill": {
          "duration": 0.024176,
          "end_time": "2020-08-15T08:03:52.464384",
          "exception": false,
          "start_time": "2020-08-15T08:03:52.440208",
          "status": "completed"
        },
        "tags": [],
        "id": "iiQE91noqRJy"
      },
      "source": [
        "clf_best = grid_search.best_estimator_"
      ],
      "execution_count": null,
      "outputs": []
    },
    {
      "cell_type": "code",
      "metadata": {
        "execution": {
          "iopub.execute_input": "2020-08-15T08:03:52.503907Z",
          "iopub.status.busy": "2020-08-15T08:03:52.502634Z",
          "iopub.status.idle": "2020-08-15T08:03:52.511606Z",
          "shell.execute_reply": "2020-08-15T08:03:52.510958Z"
        },
        "papermill": {
          "duration": 0.030127,
          "end_time": "2020-08-15T08:03:52.511737",
          "exception": false,
          "start_time": "2020-08-15T08:03:52.481610",
          "status": "completed"
        },
        "tags": [],
        "id": "f71Y8CNXqRJ1"
      },
      "source": [
        "y_pred = clf_best.predict(X_test)"
      ],
      "execution_count": null,
      "outputs": []
    },
    {
      "cell_type": "code",
      "metadata": {
        "execution": {
          "iopub.execute_input": "2020-08-15T08:03:52.551007Z",
          "iopub.status.busy": "2020-08-15T08:03:52.550237Z",
          "iopub.status.idle": "2020-08-15T08:03:52.565265Z",
          "shell.execute_reply": "2020-08-15T08:03:52.564507Z"
        },
        "papermill": {
          "duration": 0.03745,
          "end_time": "2020-08-15T08:03:52.565395",
          "exception": false,
          "start_time": "2020-08-15T08:03:52.527945",
          "status": "completed"
        },
        "tags": [],
        "id": "87QYQvdWqRJ3",
        "outputId": "aab2a2bb-e39e-4744-fb7c-0cb6108b3f98"
      },
      "source": [
        "from sklearn.metrics import accuracy_score, confusion_matrix, roc_auc_score, roc_curve\n",
        "\n",
        "accuracy_score(y_test, y_pred)"
      ],
      "execution_count": null,
      "outputs": [
        {
          "output_type": "execute_result",
          "data": {
            "text/plain": [
              "0.82396"
            ]
          },
          "metadata": {
            "tags": []
          },
          "execution_count": 10
        }
      ]
    },
    {
      "cell_type": "code",
      "metadata": {
        "execution": {
          "iopub.execute_input": "2020-08-15T08:03:52.606936Z",
          "iopub.status.busy": "2020-08-15T08:03:52.605750Z",
          "iopub.status.idle": "2020-08-15T08:03:52.769811Z",
          "shell.execute_reply": "2020-08-15T08:03:52.769052Z"
        },
        "papermill": {
          "duration": 0.186048,
          "end_time": "2020-08-15T08:03:52.769961",
          "exception": false,
          "start_time": "2020-08-15T08:03:52.583913",
          "status": "completed"
        },
        "tags": [],
        "id": "4hvD8Y0zqRJ6",
        "outputId": "ece3b606-7a10-4b82-a8aa-9494ec48571d"
      },
      "source": [
        "confusion_matrix(y_test, y_pred)"
      ],
      "execution_count": null,
      "outputs": [
        {
          "output_type": "execute_result",
          "data": {
            "text/plain": [
              "array([[82290,   220],\n",
              "       [17384,   106]])"
            ]
          },
          "metadata": {
            "tags": []
          },
          "execution_count": 11
        }
      ]
    },
    {
      "cell_type": "code",
      "metadata": {
        "execution": {
          "iopub.execute_input": "2020-08-15T08:03:52.810930Z",
          "iopub.status.busy": "2020-08-15T08:03:52.810123Z",
          "iopub.status.idle": "2020-08-15T08:03:52.820665Z",
          "shell.execute_reply": "2020-08-15T08:03:52.819924Z"
        },
        "papermill": {
          "duration": 0.033208,
          "end_time": "2020-08-15T08:03:52.820793",
          "exception": false,
          "start_time": "2020-08-15T08:03:52.787585",
          "status": "completed"
        },
        "tags": [],
        "id": "gQ6vNhWuqRJ9"
      },
      "source": [
        "y_pred_proba = clf_best.predict_proba(X_test)"
      ],
      "execution_count": null,
      "outputs": []
    },
    {
      "cell_type": "code",
      "metadata": {
        "execution": {
          "iopub.execute_input": "2020-08-15T08:03:52.862989Z",
          "iopub.status.busy": "2020-08-15T08:03:52.861975Z",
          "iopub.status.idle": "2020-08-15T08:03:52.866873Z",
          "shell.execute_reply": "2020-08-15T08:03:52.866131Z"
        },
        "papermill": {
          "duration": 0.028613,
          "end_time": "2020-08-15T08:03:52.867002",
          "exception": false,
          "start_time": "2020-08-15T08:03:52.838389",
          "status": "completed"
        },
        "tags": [],
        "id": "C4HcjqcYqRKB",
        "outputId": "4338e708-7f7c-4e65-d1b8-e43473e22b24"
      },
      "source": [
        "y_pred_proba[:,0]"
      ],
      "execution_count": null,
      "outputs": [
        {
          "output_type": "execute_result",
          "data": {
            "text/plain": [
              "array([0.84654748, 0.84655433, 0.8465701 , ..., 0.81832249, 0.81388322,\n",
              "       0.90164713])"
            ]
          },
          "metadata": {
            "tags": []
          },
          "execution_count": 13
        }
      ]
    },
    {
      "cell_type": "code",
      "metadata": {
        "execution": {
          "iopub.execute_input": "2020-08-15T08:03:52.910613Z",
          "iopub.status.busy": "2020-08-15T08:03:52.909792Z",
          "iopub.status.idle": "2020-08-15T08:03:53.150277Z",
          "shell.execute_reply": "2020-08-15T08:03:53.150855Z"
        },
        "papermill": {
          "duration": 0.26584,
          "end_time": "2020-08-15T08:03:53.151029",
          "exception": false,
          "start_time": "2020-08-15T08:03:52.885189",
          "status": "completed"
        },
        "tags": [],
        "id": "Xo7ApozpqRKE",
        "outputId": "064ad011-835d-4c45-af9b-c0fdc86b2754"
      },
      "source": [
        "fpr, tpr, _ = roc_curve(y_test, y_pred_proba[:,0])\n",
        "auc = roc_auc_score(y_test, y_pred_proba[:,0])\n",
        "plt.plot(fpr, tpr, \"r-\", label=\"LogisticRegression\")"
      ],
      "execution_count": null,
      "outputs": [
        {
          "output_type": "execute_result",
          "data": {
            "text/plain": [
              "[<matplotlib.lines.Line2D at 0x7fe21aa8d490>]"
            ]
          },
          "metadata": {
            "tags": []
          },
          "execution_count": 14
        },
        {
          "output_type": "display_data",
          "data": {
            "image/png": "[encoded data removed]",
            "text/plain": [
              "<Figure size 432x288 with 1 Axes>"
            ]
          },
          "metadata": {
            "tags": [],
            "needs_background": "light"
          }
        }
      ]
    },
    {
      "cell_type": "code",
      "metadata": {
        "execution": {
          "iopub.execute_input": "2020-08-15T08:03:53.197026Z",
          "iopub.status.busy": "2020-08-15T08:03:53.195915Z",
          "iopub.status.idle": "2020-08-15T08:03:53.200128Z",
          "shell.execute_reply": "2020-08-15T08:03:53.199391Z"
        },
        "papermill": {
          "duration": 0.028993,
          "end_time": "2020-08-15T08:03:53.200258",
          "exception": false,
          "start_time": "2020-08-15T08:03:53.171265",
          "status": "completed"
        },
        "tags": [],
        "id": "RbDIThv7qRKG",
        "outputId": "1b81af58-79c0-4401-9a5c-5f2f98448b39"
      },
      "source": [
        "auc"
      ],
      "execution_count": null,
      "outputs": [
        {
          "output_type": "execute_result",
          "data": {
            "text/plain": [
              "0.3639603030947476"
            ]
          },
          "metadata": {
            "tags": []
          },
          "execution_count": 15
        }
      ]
    }
  ]
}