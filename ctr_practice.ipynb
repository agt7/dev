{
  "nbformat": 4,
  "nbformat_minor": 0,
  "metadata": {
    "kernelspec": {
      "name": "python3",
      "display_name": "Python 3",
      "language": "python"
    },
    "colab": {
      "name": "ctr-practice.ipynb",
      "provenance": [],
      "include_colab_link": true
    }
  },
  "cells": [
    {
      "cell_type": "markdown",
      "metadata": {
        "id": "view-in-github",
        "colab_type": "text"
      },
      "source": [
        "<a href=\"https://colab.research.google.com/github/agt7/dev/blob/master/ctr_practice.ipynb\" target=\"_parent\"><img src=\"https://colab.research.google.com/assets/colab-badge.svg\" alt=\"Open In Colab\"/></a>"
      ]
    },
    {
      "cell_type": "code",
      "metadata": {
        "_uuid": "8f2839f25d086af736a60e9eeb907d3b93b6e0e5",
        "_cell_guid": "b1076dfc-b9ad-4769-8c92-a6c4dae69d19",
        "trusted": true,
        "id": "enxG1_SCpmUk",
        "outputId": "c6d0affb-4857-4443-8391-a15490573e2b"
      },
      "source": [
        "# This Python 3 environment comes with many helpful analytics libraries installed\n",
        "# It is defined by the kaggle/python Docker image: https://github.com/kaggle/docker-python\n",
        "# For example, here's several helpful packages to load\n",
        "\n",
        "import numpy as np # linear algebra\n",
        "import pandas as pd # data processing, CSV file I/O (e.g. pd.read_csv)\n",
        "\n",
        "# Input data files are available in the read-only \"../input/\" directory\n",
        "# For example, running this (by clicking run or pressing Shift+Enter) will list all files under the input directory\n",
        "\n",
        "import os\n",
        "for dirname, _, filenames in os.walk('/kaggle/input'):\n",
        "    for filename in filenames:\n",
        "        print(os.path.join(dirname, filename))\n",
        "\n",
        "# You can write up to 5GB to the current directory (/kaggle/working/) that gets preserved as output when you create a version using \"Save & Run All\" \n",
        "# You can also write temporary files to /kaggle/temp/, but they won't be saved outside of the current session\n",
        "\n",
        "from matplotlib import pyplot as plt\n",
        "import seaborn as sns\n",
        "import gzip\n",
        "\n",
        "test_file = '../input/avazu-ctr-prediction/test.gz'\n",
        "samplesubmision_file = '../input/avazu-ctr-prediction/sampleSubmission.gz'"
      ],
      "execution_count": null,
      "outputs": [
        {
          "output_type": "stream",
          "text": [
            "/kaggle/input/avazu-ctr-train/train.csv\n",
            "/kaggle/input/avazu-ctr-prediction/test.gz\n",
            "/kaggle/input/avazu-ctr-prediction/sampleSubmission.gz\n",
            "/kaggle/input/avazu-ctr-prediction/train.gz\n"
          ],
          "name": "stdout"
        }
      ]
    },
    {
      "cell_type": "markdown",
      "metadata": {
        "id": "jCYPznMCpmUp"
      },
      "source": [
        "由於文件的Row數量太過龐大 （超過4千萬筆） ，Pandas DataFrame無法讀取這麼大的資料量，因此資料以每100萬筆為一批次分批讀取，並且從每個批次的資料中，隨機抽樣5％的資料，集成一個新的train set。"
      ]
    },
    {
      "cell_type": "code",
      "metadata": {
        "trusted": true,
        "id": "JhFI4hp4pmUq",
        "outputId": "80089899-a151-4d21-a10d-7826d3d62c36"
      },
      "source": [
        "chunksize = 10 ** 6\n",
        "num_of_chunk = 0\n",
        "train = pd.DataFrame()\n",
        "    \n",
        "for chunk in pd.read_csv('../input/avazu-ctr-train/train.csv', chunksize=chunksize):\n",
        "    num_of_chunk += 1\n",
        "    train = pd.concat([train, chunk.sample(frac=.05, replace=False, random_state=123)], axis=0)\n",
        "    print('Processing Chunk No. ' + str(num_of_chunk))     \n",
        "    \n",
        "train.reset_index(inplace=True)\n",
        "\n",
        "# 備份train 資料長度，以便稍後df重新分割索引用途\n",
        "train_len = len(train)\n",
        "train_len"
      ],
      "execution_count": null,
      "outputs": [
        {
          "output_type": "stream",
          "text": [
            "Processing Chunk No. 1\n",
            "Processing Chunk No. 2\n",
            "Processing Chunk No. 3\n",
            "Processing Chunk No. 4\n",
            "Processing Chunk No. 5\n",
            "Processing Chunk No. 6\n",
            "Processing Chunk No. 7\n",
            "Processing Chunk No. 8\n",
            "Processing Chunk No. 9\n",
            "Processing Chunk No. 10\n",
            "Processing Chunk No. 11\n",
            "Processing Chunk No. 12\n",
            "Processing Chunk No. 13\n",
            "Processing Chunk No. 14\n",
            "Processing Chunk No. 15\n",
            "Processing Chunk No. 16\n",
            "Processing Chunk No. 17\n",
            "Processing Chunk No. 18\n",
            "Processing Chunk No. 19\n",
            "Processing Chunk No. 20\n",
            "Processing Chunk No. 21\n",
            "Processing Chunk No. 22\n",
            "Processing Chunk No. 23\n",
            "Processing Chunk No. 24\n",
            "Processing Chunk No. 25\n",
            "Processing Chunk No. 26\n",
            "Processing Chunk No. 27\n",
            "Processing Chunk No. 28\n",
            "Processing Chunk No. 29\n",
            "Processing Chunk No. 30\n",
            "Processing Chunk No. 31\n",
            "Processing Chunk No. 32\n",
            "Processing Chunk No. 33\n",
            "Processing Chunk No. 34\n",
            "Processing Chunk No. 35\n",
            "Processing Chunk No. 36\n",
            "Processing Chunk No. 37\n",
            "Processing Chunk No. 38\n",
            "Processing Chunk No. 39\n",
            "Processing Chunk No. 40\n",
            "Processing Chunk No. 41\n"
          ],
          "name": "stdout"
        },
        {
          "output_type": "execute_result",
          "data": {
            "text/plain": [
              "2021448"
            ]
          },
          "metadata": {
            "tags": []
          },
          "execution_count": 3
        }
      ]
    },
    {
      "cell_type": "markdown",
      "metadata": {
        "id": "72gUrDcIpmUt"
      },
      "source": [
        "再將test資料集的資料讀出，並把train, test 合併成一個df，以便同時進行資料預處理。"
      ]
    },
    {
      "cell_type": "code",
      "metadata": {
        "trusted": true,
        "id": "dGOvVyKZpmUu"
      },
      "source": [
        "df = pd.concat([train, pd.read_csv(test_file, compression='gzip')]).drop(['index', 'id'], axis=1)"
      ],
      "execution_count": null,
      "outputs": []
    },
    {
      "cell_type": "markdown",
      "metadata": {
        "id": "NIAkKjGWpmUw"
      },
      "source": [
        "考量本次預測目的為用10天的點擊狀況訓練模型，用以預測地11天的狀況，因此年月日期無意義，但weekday理論上有意義。所以把原始hour特徵中的日期，轉化為weekday。\n",
        "\n",
        "又，每天的時段依據每個人不同的生活習慣，理論上有意義。未避免太多變數造成維度崩潰24，將小時的時間區分為12個時段，每兩小時一個時段。"
      ]
    },
    {
      "cell_type": "code",
      "metadata": {
        "trusted": true,
        "id": "I2lrvUBipmUx"
      },
      "source": [
        "# 建立一個將hour資料轉換為日期格式的function\n",
        "def get_date(hour):\n",
        "    y = '20'+str(hour)[:2]\n",
        "    m = str(hour)[2:4]\n",
        "    d = str(hour)[4:6]\n",
        "    return y+'-'+m+'-'+d\n",
        "\n",
        "# 建立weekday欄位，將hour轉換後填入\n",
        "df['weekday'] = pd.to_datetime(df.hour.apply(get_date)).dt.dayofweek.astype(str)\n",
        "\n",
        "# 建立一個將hour資料轉換為時段的function\n",
        "def tran_hour(x):\n",
        "    x = x % 100\n",
        "    while x in [23,0]:\n",
        "        return '23-01'\n",
        "    while x in [1,2]:\n",
        "        return '01-03'\n",
        "    while x in [3,4]:\n",
        "        return '03-05'\n",
        "    while x in [5,6]:\n",
        "        return '05-07'\n",
        "    while x in [7,8]:\n",
        "        return '07-09'\n",
        "    while x in [9,10]:\n",
        "        return '09-11'\n",
        "    while x in [11,12]:\n",
        "        return '11-13'\n",
        "    while x in [13,14]:\n",
        "        return '13-15'\n",
        "    while x in [15,16]:\n",
        "        return '15-17'\n",
        "    while x in [17,18]:\n",
        "        return '17-19'\n",
        "    while x in [19,20]:\n",
        "        return '19-21'\n",
        "    while x in [21,22]:\n",
        "        return '21-23'\n",
        "\n",
        "# 將hour轉換為時段\n",
        "df['hour'] = df.hour.apply(tran_hour)"
      ],
      "execution_count": null,
      "outputs": []
    },
    {
      "cell_type": "code",
      "metadata": {
        "trusted": true,
        "id": "tsb-jOBCpmU0",
        "outputId": "c670f47a-834f-4aad-a71a-0061d3127d6e"
      },
      "source": [
        "# 確認資料型別\n",
        "df.info()"
      ],
      "execution_count": null,
      "outputs": [
        {
          "output_type": "stream",
          "text": [
            "<class 'pandas.core.frame.DataFrame'>\n",
            "Int64Index: 6598912 entries, 0 to 4577463\n",
            "Data columns (total 24 columns):\n",
            " #   Column            Dtype  \n",
            "---  ------            -----  \n",
            " 0   click             float64\n",
            " 1   hour              object \n",
            " 2   C1                int64  \n",
            " 3   banner_pos        int64  \n",
            " 4   site_id           object \n",
            " 5   site_domain       object \n",
            " 6   site_category     object \n",
            " 7   app_id            object \n",
            " 8   app_domain        object \n",
            " 9   app_category      object \n",
            " 10  device_id         object \n",
            " 11  device_ip         object \n",
            " 12  device_model      object \n",
            " 13  device_type       int64  \n",
            " 14  device_conn_type  int64  \n",
            " 15  C14               int64  \n",
            " 16  C15               int64  \n",
            " 17  C16               int64  \n",
            " 18  C17               int64  \n",
            " 19  C18               int64  \n",
            " 20  C19               int64  \n",
            " 21  C20               int64  \n",
            " 22  C21               int64  \n",
            " 23  weekday           object \n",
            "dtypes: float64(1), int64(12), object(11)\n",
            "memory usage: 1.2+ GB\n"
          ],
          "name": "stdout"
        }
      ]
    },
    {
      "cell_type": "markdown",
      "metadata": {
        "id": "lf2FcaK0pmU3"
      },
      "source": [
        "確認每個特徵的value count，發現int型別的特徵，最多value的特徵僅4,333個value count，再一個600萬筆資料的資料集中，顯然非連續行變數。由此可斷定，本資料集的所有特徵，皆為Object型態的變數。"
      ]
    },
    {
      "cell_type": "code",
      "metadata": {
        "trusted": true,
        "id": "n4FhoGBxpmU4",
        "outputId": "035e4397-d169-459a-b734-c5dcbcf29a0e"
      },
      "source": [
        "len_of_feature_count = []\n",
        "for i in df.columns[2:23].tolist():\n",
        "    print(i, ':', len(df[i].astype(str).value_counts()))\n",
        "    len_of_feature_count.append(len(df[i].astype(str).value_counts()))"
      ],
      "execution_count": null,
      "outputs": [
        {
          "output_type": "stream",
          "text": [
            "C1 : 7\n",
            "banner_pos : 7\n",
            "site_id : 3496\n",
            "site_domain : 4333\n",
            "site_category : 24\n",
            "app_id : 5466\n",
            "app_domain : 319\n",
            "app_category : 31\n",
            "device_id : 552856\n",
            "device_ip : 1875405\n",
            "device_model : 6321\n",
            "device_type : 5\n",
            "device_conn_type : 4\n",
            "C14 : 2662\n",
            "C15 : 8\n",
            "C16 : 9\n",
            "C17 : 470\n",
            "C18 : 4\n",
            "C19 : 68\n",
            "C20 : 169\n",
            "C21 : 62\n"
          ],
          "name": "stdout"
        }
      ]
    },
    {
      "cell_type": "code",
      "metadata": {
        "trusted": true,
        "id": "x6BcSz-mpmU7"
      },
      "source": [
        "# 建立一個list，將需要轉換行別的特徵名稱存入該list\n",
        "need_tran_feature = df.columns[2:4].tolist() + df.columns[13:23].tolist()\n",
        "\n",
        "# 依序將變數轉換為object型別\n",
        "for i in need_tran_feature:\n",
        "    df[i] = df[i].astype(str)"
      ],
      "execution_count": null,
      "outputs": []
    },
    {
      "cell_type": "markdown",
      "metadata": {
        "id": "-rO0FL2tpmU-"
      },
      "source": [
        "一些特徵的value count極高，甚至有上百萬個資料值，這種情況進行 one-hot編碼，無疑會造成維度崩潰。在此將每個特徵的value count以10為限10，一旦超過10個值，則將進行縮減作業。\n",
        "\n",
        "縮減的方式為，計算某變數所有值的點擊率，依點擊率區分為very_high, higher, mid, lower, very_low，等5個級距。"
      ]
    },
    {
      "cell_type": "code",
      "metadata": {
        "trusted": true,
        "id": "5uhAzax4pmU-",
        "outputId": "4ae50dce-ac9e-4374-d4f7-2e55c014567d"
      },
      "source": [
        "obj_features = []\n",
        "\n",
        "for i in range(len(len_of_feature_count)):\n",
        "    if len_of_feature_count[i] > 10:\n",
        "        obj_features.append(df.columns[2:23].tolist()[i])\n",
        "obj_features"
      ],
      "execution_count": null,
      "outputs": [
        {
          "output_type": "execute_result",
          "data": {
            "text/plain": [
              "['site_id',\n",
              " 'site_domain',\n",
              " 'site_category',\n",
              " 'app_id',\n",
              " 'app_domain',\n",
              " 'app_category',\n",
              " 'device_id',\n",
              " 'device_ip',\n",
              " 'device_model',\n",
              " 'C14',\n",
              " 'C17',\n",
              " 'C19',\n",
              " 'C20',\n",
              " 'C21']"
            ]
          },
          "metadata": {
            "tags": []
          },
          "execution_count": 9
        }
      ]
    },
    {
      "cell_type": "code",
      "metadata": {
        "trusted": true,
        "id": "ybowDjJdpmVB",
        "outputId": "2b6cb774-c045-441b-99f4-a33dfc39a357"
      },
      "source": [
        "df_describe = df.describe()\n",
        "df_describe"
      ],
      "execution_count": null,
      "outputs": [
        {
          "output_type": "execute_result",
          "data": {
            "text/plain": [
              "              click\n",
              "count  2.021448e+06\n",
              "mean   1.700731e-01\n",
              "std    3.756971e-01\n",
              "min    0.000000e+00\n",
              "25%    0.000000e+00\n",
              "50%    0.000000e+00\n",
              "75%    0.000000e+00\n",
              "max    1.000000e+00"
            ],
            "text/html": [
              "<div>\n",
              "<style scoped>\n",
              "    .dataframe tbody tr th:only-of-type {\n",
              "        vertical-align: middle;\n",
              "    }\n",
              "\n",
              "    .dataframe tbody tr th {\n",
              "        vertical-align: top;\n",
              "    }\n",
              "\n",
              "    .dataframe thead th {\n",
              "        text-align: right;\n",
              "    }\n",
              "</style>\n",
              "<table border=\"1\" class=\"dataframe\">\n",
              "  <thead>\n",
              "    <tr style=\"text-align: right;\">\n",
              "      <th></th>\n",
              "      <th>click</th>\n",
              "    </tr>\n",
              "  </thead>\n",
              "  <tbody>\n",
              "    <tr>\n",
              "      <th>count</th>\n",
              "      <td>2.021448e+06</td>\n",
              "    </tr>\n",
              "    <tr>\n",
              "      <th>mean</th>\n",
              "      <td>1.700731e-01</td>\n",
              "    </tr>\n",
              "    <tr>\n",
              "      <th>std</th>\n",
              "      <td>3.756971e-01</td>\n",
              "    </tr>\n",
              "    <tr>\n",
              "      <th>min</th>\n",
              "      <td>0.000000e+00</td>\n",
              "    </tr>\n",
              "    <tr>\n",
              "      <th>25%</th>\n",
              "      <td>0.000000e+00</td>\n",
              "    </tr>\n",
              "    <tr>\n",
              "      <th>50%</th>\n",
              "      <td>0.000000e+00</td>\n",
              "    </tr>\n",
              "    <tr>\n",
              "      <th>75%</th>\n",
              "      <td>0.000000e+00</td>\n",
              "    </tr>\n",
              "    <tr>\n",
              "      <th>max</th>\n",
              "      <td>1.000000e+00</td>\n",
              "    </tr>\n",
              "  </tbody>\n",
              "</table>\n",
              "</div>"
            ]
          },
          "metadata": {
            "tags": []
          },
          "execution_count": 10
        }
      ]
    },
    {
      "cell_type": "code",
      "metadata": {
        "trusted": true,
        "id": "PV0l8ue3pmVD",
        "outputId": "93f0c2ac-4031-49d0-90de-675cd3ffd520"
      },
      "source": [
        "def obj_clean(X):\n",
        "    # 定義一個縮減資料值的function，每次處理一個特徵向量\n",
        "\n",
        "    def get_click_rate(x):\n",
        "        # 定義一個取得點擊率的function\n",
        "        temp = train[train[X.columns[0]] == x]\n",
        "        res = round((temp.click.sum() / temp.click.count()),3)\n",
        "        return res\n",
        "\n",
        "    def get_type(V, str):\n",
        "        # 定義一個取得新資料值之級距判斷的function\n",
        "        very_high = df_describe.loc['mean','click'] + 0.04\n",
        "        higher = df_describe.loc['mean','click'] + 0.02\n",
        "        lower = df_describe.loc['mean','click'] - 0.02\n",
        "        very_low = df_describe.loc['mean','click'] - 0.04\n",
        "\n",
        "        vh_type = V[V[str] > very_high].index.tolist()\n",
        "        hr_type = V[(V[str] > higher) & (V[str] < very_high)].index.tolist()\n",
        "        vl_type = V[V[str] < very_low].index.tolist()\n",
        "        lr_type = V[(V[str] < lower) & (V[str] > very_low)].index.tolist()\n",
        "\n",
        "        return vh_type, hr_type, vl_type, lr_type\n",
        "\n",
        "    def clean_function(x):\n",
        "        # 定義一個依據級距轉換資料值的function\n",
        "        # 判斷之依據為：總平均點擊率的正負  4% 為very_high(low), 總平均點擊率的正負 2％為higher (lower)\n",
        "        while x in type_[0]:\n",
        "            return 'very_high'\n",
        "        while x in type_[1]:\n",
        "            return 'higher'\n",
        "        while x in type_[2]:\n",
        "            return 'very_low'\n",
        "        while x in type_[3]:\n",
        "            return 'lower'\n",
        "        return 'mid'\n",
        "        \n",
        "    print('Run: ', X.columns[0])\n",
        "    fq = X[X.columns[0]].value_counts()\n",
        "    # 建立一個暫存的資料值頻率列表\n",
        "    # 理論上，將全部的資料值都進行分類轉換，可得到最佳效果；實務上為了執行時間效能，將捨去頻率低於排名前1000 row以後的資料值。\n",
        "    if len(fq) > 1000:\n",
        "        fq = fq[:1000]\n",
        "\n",
        "    # 將頻率列表轉換為dataframe，並將index填入一個新的欄位。\n",
        "    fq = pd.DataFrame(fq)\n",
        "    fq['new_column'] = fq.index    \n",
        "\n",
        "    # 使用index叫用get_click_rate function，取得每個資料值的點擊率\n",
        "    fq['click_rate'] = fq.new_column.apply(get_click_rate)\n",
        "\n",
        "    # 叫用 get_type function取得分類級距，並儲存為一個list，以便提供給下一個clean_function使用\n",
        "    type_ = get_type(fq, 'click_rate')\n",
        "\n",
        "    # 叫用 clean_funtion funtion，回傳轉換後的特徵向量\n",
        "    return X[X.columns[0]].apply(clean_function)\n",
        "\n",
        "# 使用for 迴圈將需轉換的特徵輸入到 obj_clean function\n",
        "for i in obj_features:    \n",
        "    df[[i]] = obj_clean(df[[i]])\n",
        "\n",
        "df"
      ],
      "execution_count": null,
      "outputs": [
        {
          "output_type": "stream",
          "text": [
            "Run:  site_id\n",
            "Run:  site_domain\n",
            "Run:  site_category\n",
            "Run:  app_id\n",
            "Run:  app_domain\n",
            "Run:  app_category\n",
            "Run:  device_id\n",
            "Run:  device_ip\n",
            "Run:  device_model\n",
            "Run:  C14\n"
          ],
          "name": "stdout"
        },
        {
          "output_type": "stream",
          "text": [
            "/opt/conda/lib/python3.7/site-packages/pandas/core/ops/array_ops.py:253: FutureWarning: elementwise comparison failed; returning scalar instead, but in the future will perform elementwise comparison\n",
            "  res_values = method(rvalues)\n"
          ],
          "name": "stderr"
        },
        {
          "output_type": "stream",
          "text": [
            "Run:  C17\n",
            "Run:  C19\n",
            "Run:  C20\n",
            "Run:  C21\n"
          ],
          "name": "stdout"
        },
        {
          "output_type": "execute_result",
          "data": {
            "text/plain": [
              "         click   hour    C1 banner_pos    site_id site_domain site_category  \\\n",
              "0          1.0  01-03  1005          1  very_high   very_high           mid   \n",
              "1          0.0  01-03  1005          0     higher      higher        higher   \n",
              "2          0.0  01-03  1005          0     higher      higher        higher   \n",
              "3          0.0  03-05  1005          1   very_low    very_low           mid   \n",
              "4          0.0  01-03  1005          0     higher      higher        higher   \n",
              "...        ...    ...   ...        ...        ...         ...           ...   \n",
              "4577459    NaN  23-01  1005          0  very_high   very_high     very_high   \n",
              "4577460    NaN  23-01  1005          0        mid      higher           mid   \n",
              "4577461    NaN  23-01  1005          0  very_high   very_high     very_high   \n",
              "4577462    NaN  23-01  1005          0   very_low    very_low      very_low   \n",
              "4577463    NaN  23-01  1005          0        mid      higher           mid   \n",
              "\n",
              "           app_id app_domain app_category  ... device_conn_type  C14  C15  \\\n",
              "0          higher     higher       higher  ...                0  mid  320   \n",
              "1          higher     higher       higher  ...                0  mid  320   \n",
              "2          higher     higher       higher  ...                0  mid  320   \n",
              "3          higher     higher       higher  ...                0  mid  320   \n",
              "4          higher     higher       higher  ...                0  mid  320   \n",
              "...           ...        ...          ...  ...              ...  ...  ...   \n",
              "4577459    higher     higher       higher  ...                0  mid  300   \n",
              "4577460    higher     higher       higher  ...                0  mid  320   \n",
              "4577461    higher     higher       higher  ...                0  mid  300   \n",
              "4577462  very_low   very_low     very_low  ...                3  mid  320   \n",
              "4577463    higher     higher       higher  ...                0  mid  320   \n",
              "\n",
              "         C16  C17 C18  C19  C20  C21 weekday  \n",
              "0         50  mid   2  mid  mid  mid       1  \n",
              "1         50  mid   0  mid  mid  mid       1  \n",
              "2         50  mid   0  mid  mid  mid       1  \n",
              "3         50  mid   3  mid  mid  mid       1  \n",
              "4         50  mid   0  mid  mid  mid       1  \n",
              "...      ...  ...  ..  ...  ...  ...     ...  \n",
              "4577459  250  mid   2  mid  mid  mid       4  \n",
              "4577460   50  mid   0  mid  mid  mid       4  \n",
              "4577461  250  mid   2  mid  mid  mid       4  \n",
              "4577462   50  mid   1  mid  mid  mid       4  \n",
              "4577463   50  mid   0  mid  mid  mid       4  \n",
              "\n",
              "[6598912 rows x 24 columns]"
            ],
            "text/html": [
              "<div>\n",
              "<style scoped>\n",
              "    .dataframe tbody tr th:only-of-type {\n",
              "        vertical-align: middle;\n",
              "    }\n",
              "\n",
              "    .dataframe tbody tr th {\n",
              "        vertical-align: top;\n",
              "    }\n",
              "\n",
              "    .dataframe thead th {\n",
              "        text-align: right;\n",
              "    }\n",
              "</style>\n",
              "<table border=\"1\" class=\"dataframe\">\n",
              "  <thead>\n",
              "    <tr style=\"text-align: right;\">\n",
              "      <th></th>\n",
              "      <th>click</th>\n",
              "      <th>hour</th>\n",
              "      <th>C1</th>\n",
              "      <th>banner_pos</th>\n",
              "      <th>site_id</th>\n",
              "      <th>site_domain</th>\n",
              "      <th>site_category</th>\n",
              "      <th>app_id</th>\n",
              "      <th>app_domain</th>\n",
              "      <th>app_category</th>\n",
              "      <th>...</th>\n",
              "      <th>device_conn_type</th>\n",
              "      <th>C14</th>\n",
              "      <th>C15</th>\n",
              "      <th>C16</th>\n",
              "      <th>C17</th>\n",
              "      <th>C18</th>\n",
              "      <th>C19</th>\n",
              "      <th>C20</th>\n",
              "      <th>C21</th>\n",
              "      <th>weekday</th>\n",
              "    </tr>\n",
              "  </thead>\n",
              "  <tbody>\n",
              "    <tr>\n",
              "      <th>0</th>\n",
              "      <td>1.0</td>\n",
              "      <td>01-03</td>\n",
              "      <td>1005</td>\n",
              "      <td>1</td>\n",
              "      <td>very_high</td>\n",
              "      <td>very_high</td>\n",
              "      <td>mid</td>\n",
              "      <td>higher</td>\n",
              "      <td>higher</td>\n",
              "      <td>higher</td>\n",
              "      <td>...</td>\n",
              "      <td>0</td>\n",
              "      <td>mid</td>\n",
              "      <td>320</td>\n",
              "      <td>50</td>\n",
              "      <td>mid</td>\n",
              "      <td>2</td>\n",
              "      <td>mid</td>\n",
              "      <td>mid</td>\n",
              "      <td>mid</td>\n",
              "      <td>1</td>\n",
              "    </tr>\n",
              "    <tr>\n",
              "      <th>1</th>\n",
              "      <td>0.0</td>\n",
              "      <td>01-03</td>\n",
              "      <td>1005</td>\n",
              "      <td>0</td>\n",
              "      <td>higher</td>\n",
              "      <td>higher</td>\n",
              "      <td>higher</td>\n",
              "      <td>higher</td>\n",
              "      <td>higher</td>\n",
              "      <td>higher</td>\n",
              "      <td>...</td>\n",
              "      <td>0</td>\n",
              "      <td>mid</td>\n",
              "      <td>320</td>\n",
              "      <td>50</td>\n",
              "      <td>mid</td>\n",
              "      <td>0</td>\n",
              "      <td>mid</td>\n",
              "      <td>mid</td>\n",
              "      <td>mid</td>\n",
              "      <td>1</td>\n",
              "    </tr>\n",
              "    <tr>\n",
              "      <th>2</th>\n",
              "      <td>0.0</td>\n",
              "      <td>01-03</td>\n",
              "      <td>1005</td>\n",
              "      <td>0</td>\n",
              "      <td>higher</td>\n",
              "      <td>higher</td>\n",
              "      <td>higher</td>\n",
              "      <td>higher</td>\n",
              "      <td>higher</td>\n",
              "      <td>higher</td>\n",
              "      <td>...</td>\n",
              "      <td>0</td>\n",
              "      <td>mid</td>\n",
              "      <td>320</td>\n",
              "      <td>50</td>\n",
              "      <td>mid</td>\n",
              "      <td>0</td>\n",
              "      <td>mid</td>\n",
              "      <td>mid</td>\n",
              "      <td>mid</td>\n",
              "      <td>1</td>\n",
              "    </tr>\n",
              "    <tr>\n",
              "      <th>3</th>\n",
              "      <td>0.0</td>\n",
              "      <td>03-05</td>\n",
              "      <td>1005</td>\n",
              "      <td>1</td>\n",
              "      <td>very_low</td>\n",
              "      <td>very_low</td>\n",
              "      <td>mid</td>\n",
              "      <td>higher</td>\n",
              "      <td>higher</td>\n",
              "      <td>higher</td>\n",
              "      <td>...</td>\n",
              "      <td>0</td>\n",
              "      <td>mid</td>\n",
              "      <td>320</td>\n",
              "      <td>50</td>\n",
              "      <td>mid</td>\n",
              "      <td>3</td>\n",
              "      <td>mid</td>\n",
              "      <td>mid</td>\n",
              "      <td>mid</td>\n",
              "      <td>1</td>\n",
              "    </tr>\n",
              "    <tr>\n",
              "      <th>4</th>\n",
              "      <td>0.0</td>\n",
              "      <td>01-03</td>\n",
              "      <td>1005</td>\n",
              "      <td>0</td>\n",
              "      <td>higher</td>\n",
              "      <td>higher</td>\n",
              "      <td>higher</td>\n",
              "      <td>higher</td>\n",
              "      <td>higher</td>\n",
              "      <td>higher</td>\n",
              "      <td>...</td>\n",
              "      <td>0</td>\n",
              "      <td>mid</td>\n",
              "      <td>320</td>\n",
              "      <td>50</td>\n",
              "      <td>mid</td>\n",
              "      <td>0</td>\n",
              "      <td>mid</td>\n",
              "      <td>mid</td>\n",
              "      <td>mid</td>\n",
              "      <td>1</td>\n",
              "    </tr>\n",
              "    <tr>\n",
              "      <th>...</th>\n",
              "      <td>...</td>\n",
              "      <td>...</td>\n",
              "      <td>...</td>\n",
              "      <td>...</td>\n",
              "      <td>...</td>\n",
              "      <td>...</td>\n",
              "      <td>...</td>\n",
              "      <td>...</td>\n",
              "      <td>...</td>\n",
              "      <td>...</td>\n",
              "      <td>...</td>\n",
              "      <td>...</td>\n",
              "      <td>...</td>\n",
              "      <td>...</td>\n",
              "      <td>...</td>\n",
              "      <td>...</td>\n",
              "      <td>...</td>\n",
              "      <td>...</td>\n",
              "      <td>...</td>\n",
              "      <td>...</td>\n",
              "      <td>...</td>\n",
              "    </tr>\n",
              "    <tr>\n",
              "      <th>4577459</th>\n",
              "      <td>NaN</td>\n",
              "      <td>23-01</td>\n",
              "      <td>1005</td>\n",
              "      <td>0</td>\n",
              "      <td>very_high</td>\n",
              "      <td>very_high</td>\n",
              "      <td>very_high</td>\n",
              "      <td>higher</td>\n",
              "      <td>higher</td>\n",
              "      <td>higher</td>\n",
              "      <td>...</td>\n",
              "      <td>0</td>\n",
              "      <td>mid</td>\n",
              "      <td>300</td>\n",
              "      <td>250</td>\n",
              "      <td>mid</td>\n",
              "      <td>2</td>\n",
              "      <td>mid</td>\n",
              "      <td>mid</td>\n",
              "      <td>mid</td>\n",
              "      <td>4</td>\n",
              "    </tr>\n",
              "    <tr>\n",
              "      <th>4577460</th>\n",
              "      <td>NaN</td>\n",
              "      <td>23-01</td>\n",
              "      <td>1005</td>\n",
              "      <td>0</td>\n",
              "      <td>mid</td>\n",
              "      <td>higher</td>\n",
              "      <td>mid</td>\n",
              "      <td>higher</td>\n",
              "      <td>higher</td>\n",
              "      <td>higher</td>\n",
              "      <td>...</td>\n",
              "      <td>0</td>\n",
              "      <td>mid</td>\n",
              "      <td>320</td>\n",
              "      <td>50</td>\n",
              "      <td>mid</td>\n",
              "      <td>0</td>\n",
              "      <td>mid</td>\n",
              "      <td>mid</td>\n",
              "      <td>mid</td>\n",
              "      <td>4</td>\n",
              "    </tr>\n",
              "    <tr>\n",
              "      <th>4577461</th>\n",
              "      <td>NaN</td>\n",
              "      <td>23-01</td>\n",
              "      <td>1005</td>\n",
              "      <td>0</td>\n",
              "      <td>very_high</td>\n",
              "      <td>very_high</td>\n",
              "      <td>very_high</td>\n",
              "      <td>higher</td>\n",
              "      <td>higher</td>\n",
              "      <td>higher</td>\n",
              "      <td>...</td>\n",
              "      <td>0</td>\n",
              "      <td>mid</td>\n",
              "      <td>300</td>\n",
              "      <td>250</td>\n",
              "      <td>mid</td>\n",
              "      <td>2</td>\n",
              "      <td>mid</td>\n",
              "      <td>mid</td>\n",
              "      <td>mid</td>\n",
              "      <td>4</td>\n",
              "    </tr>\n",
              "    <tr>\n",
              "      <th>4577462</th>\n",
              "      <td>NaN</td>\n",
              "      <td>23-01</td>\n",
              "      <td>1005</td>\n",
              "      <td>0</td>\n",
              "      <td>very_low</td>\n",
              "      <td>very_low</td>\n",
              "      <td>very_low</td>\n",
              "      <td>very_low</td>\n",
              "      <td>very_low</td>\n",
              "      <td>very_low</td>\n",
              "      <td>...</td>\n",
              "      <td>3</td>\n",
              "      <td>mid</td>\n",
              "      <td>320</td>\n",
              "      <td>50</td>\n",
              "      <td>mid</td>\n",
              "      <td>1</td>\n",
              "      <td>mid</td>\n",
              "      <td>mid</td>\n",
              "      <td>mid</td>\n",
              "      <td>4</td>\n",
              "    </tr>\n",
              "    <tr>\n",
              "      <th>4577463</th>\n",
              "      <td>NaN</td>\n",
              "      <td>23-01</td>\n",
              "      <td>1005</td>\n",
              "      <td>0</td>\n",
              "      <td>mid</td>\n",
              "      <td>higher</td>\n",
              "      <td>mid</td>\n",
              "      <td>higher</td>\n",
              "      <td>higher</td>\n",
              "      <td>higher</td>\n",
              "      <td>...</td>\n",
              "      <td>0</td>\n",
              "      <td>mid</td>\n",
              "      <td>320</td>\n",
              "      <td>50</td>\n",
              "      <td>mid</td>\n",
              "      <td>0</td>\n",
              "      <td>mid</td>\n",
              "      <td>mid</td>\n",
              "      <td>mid</td>\n",
              "      <td>4</td>\n",
              "    </tr>\n",
              "  </tbody>\n",
              "</table>\n",
              "<p>6598912 rows × 24 columns</p>\n",
              "</div>"
            ]
          },
          "metadata": {
            "tags": []
          },
          "execution_count": 11
        }
      ]
    },
    {
      "cell_type": "code",
      "metadata": {
        "trusted": true,
        "id": "oAY25LNApmVG",
        "outputId": "260f4c71-7d53-489b-904c-ef50ef17e0d4"
      },
      "source": [
        "# 確認所有特徵的資料值狀況\n",
        "for i in df.columns:\n",
        "    sns.countplot(x = i, hue = \"click\", data = df)\n",
        "    plt.show()"
      ],
      "execution_count": null,
      "outputs": [
        {
          "output_type": "display_data",
          "data": {
            "text/plain": [
              "<Figure size 432x288 with 1 Axes>"
            ],
            "image/png": "[encoded data removed]"
          },
          "metadata": {
            "tags": [],
            "needs_background": "light"
          }
        },
        {
          "output_type": "display_data",
          "data": {
            "text/plain": [
              "<Figure size 432x288 with 1 Axes>"
            ],
            "image/png": "[encoded data removed]"
          },
          "metadata": {
            "tags": [],
            "needs_background": "light"
          }
        },
        {
          "output_type": "display_data",
          "data": {
            "text/plain": [
              "<Figure size 432x288 with 1 Axes>"
            ],
            "image/png": "[encoded data removed]"
          },
          "metadata": {
            "tags": [],
            "needs_background": "light"
          }
        },
        {
          "output_type": "display_data",
          "data": {
            "text/plain": [
              "<Figure size 432x288 with 1 Axes>"
            ],
            "image/png": "[encoded data removed]"
          },
          "metadata": {
            "tags": [],
            "needs_background": "light"
          }
        },
        {
          "output_type": "display_data",
          "data": {
            "text/plain": [
              "<Figure size 432x288 with 1 Axes>"
            ],
            "image/png": "[encoded data removed]"
          },
          "metadata": {
            "tags": [],
            "needs_background": "light"
          }
        },
        {
          "output_type": "display_data",
          "data": {
            "text/plain": [
              "<Figure size 432x288 with 1 Axes>"
            ],
            "image/png": "[encoded data removed]"
          },
          "metadata": {
            "tags": [],
            "needs_background": "light"
          }
        },
        {
          "output_type": "display_data",
          "data": {
            "text/plain": [
              "<Figure size 432x288 with 1 Axes>"
            ],
            "image/png": "[encoded data removed]"
          },
          "metadata": {
            "tags": [],
            "needs_background": "light"
          }
        },
        {
          "output_type": "display_data",
          "data": {
            "text/plain": [
              "<Figure size 432x288 with 1 Axes>"
            ],
            "image/png": "[encoded data removed]"
          },
          "metadata": {
            "tags": [],
            "needs_background": "light"
          }
        },
        {
          "output_type": "display_data",
          "data": {
            "text/plain": [
              "<Figure size 432x288 with 1 Axes>"
            ],
            "image/png": "[encoded data removed]"
          },
          "metadata": {
            "tags": [],
            "needs_background": "light"
          }
        },
        {
          "output_type": "display_data",
          "data": {
            "text/plain": [
              "<Figure size 432x288 with 1 Axes>"
            ],
            "image/png": "[encoded data removed]"
          },
          "metadata": {
            "tags": [],
            "needs_background": "light"
          }
        },
        {
          "output_type": "display_data",
          "data": {
            "text/plain": [
              "<Figure size 432x288 with 1 Axes>"
            ],
            "image/png": "[encoded data removed]"
          },
          "metadata": {
            "tags": [],
            "needs_background": "light"
          }
        },
        {
          "output_type": "display_data",
          "data": {
            "text/plain": [
              "<Figure size 432x288 with 1 Axes>"
            ],
            "image/png": "[encoded data removed]"
          },
          "metadata": {
            "tags": [],
            "needs_background": "light"
          }
        },
        {
          "output_type": "display_data",
          "data": {
            "text/plain": [
              "<Figure size 432x288 with 1 Axes>"
            ],
            "image/png": "[encoded data removed]"
          },
          "metadata": {
            "tags": [],
            "needs_background": "light"
          }
        },
        {
          "output_type": "display_data",
          "data": {
            "text/plain": [
              "<Figure size 432x288 with 1 Axes>"
            ],
            "image/png": "[encoded data removed]"
          },
          "metadata": {
            "tags": [],
            "needs_background": "light"
          }
        },
        {
          "output_type": "display_data",
          "data": {
            "text/plain": [
              "<Figure size 432x288 with 1 Axes>"
            ],
            "image/png": "[encoded data removed]"
          },
          "metadata": {
            "tags": [],
            "needs_background": "light"
          }
        },
        {
          "output_type": "display_data",
          "data": {
            "text/plain": [
              "<Figure size 432x288 with 1 Axes>"
            ],
            "image/png": "[encoded data removed]"
          },
          "metadata": {
            "tags": [],
            "needs_background": "light"
          }
        },
        {
          "output_type": "display_data",
          "data": {
            "text/plain": [
              "<Figure size 432x288 with 1 Axes>"
            ],
            "image/png": "[encoded data removed]"
          },
          "metadata": {
            "tags": [],
            "needs_background": "light"
          }
        },
        {
          "output_type": "display_data",
          "data": {
            "text/plain": [
              "<Figure size 432x288 with 1 Axes>"
            ],
            "image/png": "[encoded data removed]"
          },
          "metadata": {
            "tags": [],
            "needs_background": "light"
          }
        },
        {
          "output_type": "display_data",
          "data": {
            "text/plain": [
              "<Figure size 432x288 with 1 Axes>"
            ],
            "image/png": "[encoded data removed]"
          },
          "metadata": {
            "tags": [],
            "needs_background": "light"
          }
        },
        {
          "output_type": "display_data",
          "data": {
            "text/plain": [
              "<Figure size 432x288 with 1 Axes>"
            ],
            "image/png": "[encoded data removed]"
          },
          "metadata": {
            "tags": [],
            "needs_background": "light"
          }
        },
        {
          "output_type": "display_data",
          "data": {
            "text/plain": [
              "<Figure size 432x288 with 1 Axes>"
            ],
            "image/png": "[encoded data removed]"
          },
          "metadata": {
            "tags": [],
            "needs_background": "light"
          }
        },
        {
          "output_type": "display_data",
          "data": {
            "text/plain": [
              "<Figure size 432x288 with 1 Axes>"
            ],
            "image/png": "[encoded data removed]"
          },
          "metadata": {
            "tags": [],
            "needs_background": "light"
          }
        },
        {
          "output_type": "display_data",
          "data": {
            "text/plain": [
              "<Figure size 432x288 with 1 Axes>"
            ],
            "image/png": "[encoded data removed]"
          },
          "metadata": {
            "tags": [],
            "needs_background": "light"
          }
        },
        {
          "output_type": "display_data",
          "data": {
            "text/plain": [
              "<Figure size 432x288 with 1 Axes>"
            ],
            "image/png": "[encoded data removed]"
          },
          "metadata": {
            "tags": [],
            "needs_background": "light"
          }
        }
      ]
    },
    {
      "cell_type": "markdown",
      "metadata": {
        "id": "bhYU04F2pmVI"
      },
      "source": [
        "根據上面所列出的圖表來看，顯然 ['device_id', 'C14', 'C17', 'C19', 'C20', 'C21'] 這些特徵，僅有一種value，對於預測模型來說沒有意義，因此將這些特徵移出資料集。"
      ]
    },
    {
      "cell_type": "code",
      "metadata": {
        "trusted": true,
        "id": "r8QNEKQ8pmVJ"
      },
      "source": [
        "df.drop(['device_id', 'C14', 'C17', 'C19', 'C20', 'C21'], axis=1, inplace=True)"
      ],
      "execution_count": null,
      "outputs": []
    },
    {
      "cell_type": "code",
      "metadata": {
        "trusted": true,
        "id": "ySls9yJ9pmVL"
      },
      "source": [
        "# 對所有變數進行 one-hot 編碼\n",
        "df = pd.get_dummies(df)\n",
        "\n",
        "# 依據處理過得df資料表，重新將train, test分割出來\n",
        "train = df[:train_len]\n",
        "test = df[train_len:]"
      ],
      "execution_count": null,
      "outputs": []
    },
    {
      "cell_type": "code",
      "metadata": {
        "trusted": true,
        "id": "rulnMmK3pmVN"
      },
      "source": [
        "# # 將處理過的train, test 資料集匯出，避免每次重新的冗長處理時間。\n",
        "\n",
        "# train.to_csv('new_train.csv', index=False)\n",
        "# test.to_csv('new_test.csv', index=False)"
      ],
      "execution_count": null,
      "outputs": []
    },
    {
      "cell_type": "code",
      "metadata": {
        "trusted": true,
        "id": "Kb9gTSkupmVP"
      },
      "source": [
        "# # 讀取處理過的train, test 資料集，跳過冗長的重新執行處理時間。\n",
        "# train = pd.read_csv('new_train.csv')\n",
        "# test = pd.read_csv('new_test.csv')"
      ],
      "execution_count": null,
      "outputs": []
    },
    {
      "cell_type": "code",
      "metadata": {
        "trusted": true,
        "id": "cO3rlUNQpmVU"
      },
      "source": [
        "del df"
      ],
      "execution_count": null,
      "outputs": []
    },
    {
      "cell_type": "markdown",
      "metadata": {
        "id": "4KTNjmQPpmVW"
      },
      "source": [
        "由於資料集非常的龐大，同時正向label的佔比僅佔全部資料17％左右，比例明顯失衡，需要具有強化加權功能的演算法。因此在此決定使用xgboost演算法，解決強化權重問題，同時運用GPU有效節省運算時間。\n",
        "\n",
        "為節省調參時間，實作預測模型之前，將先以建立100株決策樹，以Grid Search尋找最佳參數與重要特徵，最後再以xgboost演算法建立模型。為了縮短決策樹的建制時間，將從負向label的資料中抽樣，與所有正向label的資料整併成一份各佔50％的資料集，來平衡權重問題。同時也因為正反label比例平衡，將會採用ROC_AUC 分數來進行調參。"
      ]
    },
    {
      "cell_type": "code",
      "metadata": {
        "trusted": true,
        "id": "Z-UhOXK-pmVW"
      },
      "source": [
        "# 從train資料集中，標籤為0的資料中，隨機抽樣與標籤為1一樣多的數量，並將其結合成正反標籤佔筆各佔50％的資料集\n",
        "pre_X = train[train['click'] == 0].sample(n=len(train[train['click'] == 1]), random_state=111)\n",
        "pre_X = pd.concat([pre_X, train[train['click'] == 1]]).sample(frac=1)\n",
        "pre_y = pre_X[['click']]\n",
        "pre_X.drop(['click'], axis=1, inplace=True)\n",
        "test.drop(['click'], axis=1, inplace=True)"
      ],
      "execution_count": null,
      "outputs": []
    },
    {
      "cell_type": "code",
      "metadata": {
        "trusted": true,
        "id": "C8iXzBUPpmVZ"
      },
      "source": [
        "from sklearn.model_selection import GridSearchCV\n",
        "from sklearn.tree import DecisionTreeClassifier\n",
        "from sklearn.metrics import roc_auc_score\n",
        "from sklearn.metrics import confusion_matrix\n",
        "from sklearn.model_selection import train_test_split\n",
        "\n",
        "# 將新的資料集分割為訓練集與驗證集\n",
        "pre_X_train, pre_X_test, pre_y_train, pre_y_test = train_test_split(pre_X, pre_y, test_size=0.20, stratify=pre_y, random_state=1)"
      ],
      "execution_count": null,
      "outputs": []
    },
    {
      "cell_type": "code",
      "metadata": {
        "trusted": true,
        "id": "CKMWCIBTpmVb",
        "outputId": "5859a35c-f2bf-4fca-c386-995756cc36b3"
      },
      "source": [
        "# 執行Grid Search調參，建立100棵樹來取得最佳參數\n",
        "params = {\"criterion\":[\"gini\", \"entropy\"], \"max_depth\":range(1,20)}\n",
        "grid_search = GridSearchCV(DecisionTreeClassifier(), param_grid=params, scoring='roc_auc', cv=100, verbose=1, n_jobs=-1)\n",
        "grid_search.fit(pre_X_train, pre_y_train)\n",
        "grid_search.best_score_, grid_search.best_estimator_, grid_search.best_params_"
      ],
      "execution_count": null,
      "outputs": [
        {
          "output_type": "stream",
          "text": [
            "Fitting 100 folds for each of 38 candidates, totalling 3800 fits\n"
          ],
          "name": "stdout"
        },
        {
          "output_type": "stream",
          "text": [
            "[Parallel(n_jobs=-1)]: Using backend LokyBackend with 2 concurrent workers.\n",
            "[Parallel(n_jobs=-1)]: Done  46 tasks      | elapsed:   35.2s\n",
            "[Parallel(n_jobs=-1)]: Done 196 tasks      | elapsed:  3.2min\n",
            "[Parallel(n_jobs=-1)]: Done 446 tasks      | elapsed: 12.0min\n",
            "[Parallel(n_jobs=-1)]: Done 796 tasks      | elapsed: 31.6min\n",
            "[Parallel(n_jobs=-1)]: Done 1246 tasks      | elapsed: 67.5min\n",
            "[Parallel(n_jobs=-1)]: Done 1796 tasks      | elapsed: 121.7min\n",
            "[Parallel(n_jobs=-1)]: Done 2446 tasks      | elapsed: 149.9min\n",
            "[Parallel(n_jobs=-1)]: Done 3196 tasks      | elapsed: 206.5min\n",
            "[Parallel(n_jobs=-1)]: Done 3800 out of 3800 | elapsed: 266.3min finished\n"
          ],
          "name": "stderr"
        },
        {
          "output_type": "execute_result",
          "data": {
            "text/plain": [
              "(0.7316563213932125,\n",
              " DecisionTreeClassifier(criterion='entropy', max_depth=12),\n",
              " {'criterion': 'entropy', 'max_depth': 12})"
            ]
          },
          "metadata": {
            "tags": []
          },
          "execution_count": 20
        }
      ]
    },
    {
      "cell_type": "code",
      "metadata": {
        "trusted": true,
        "id": "fD0WncfEpmVd",
        "outputId": "43d0c609-b10b-41fe-8d65-373a184741d8"
      },
      "source": [
        "# 依據Grid Search的結果建立一個決策樹模型，並fit完整資料 (前置資料)\n",
        "tree = grid_search.best_estimator_\n",
        "tree.fit(pre_X,pre_y)\n",
        "\n",
        "# 輸出重要特徵，並依特徵之重要性排序\n",
        "feature_importances = pd.DataFrame(tree.feature_importances_)\n",
        "feature_importances.index = pre_X_train.columns\n",
        "feature_importances = feature_importances.sort_values(0,ascending=False)\n",
        "feature_importances"
      ],
      "execution_count": null,
      "outputs": [
        {
          "output_type": "execute_result",
          "data": {
            "text/plain": [
              "                            0\n",
              "site_id_very_low     0.397575\n",
              "app_id_very_high     0.163264\n",
              "site_id_very_high    0.073890\n",
              "app_id_very_low      0.062471\n",
              "app_category_higher  0.062375\n",
              "...                       ...\n",
              "C15_1024             0.000000\n",
              "C16_20               0.000000\n",
              "C16_1024             0.000000\n",
              "C15_768              0.000000\n",
              "C15_480              0.000000\n",
              "\n",
              "[103 rows x 1 columns]"
            ],
            "text/html": [
              "<div>\n",
              "<style scoped>\n",
              "    .dataframe tbody tr th:only-of-type {\n",
              "        vertical-align: middle;\n",
              "    }\n",
              "\n",
              "    .dataframe tbody tr th {\n",
              "        vertical-align: top;\n",
              "    }\n",
              "\n",
              "    .dataframe thead th {\n",
              "        text-align: right;\n",
              "    }\n",
              "</style>\n",
              "<table border=\"1\" class=\"dataframe\">\n",
              "  <thead>\n",
              "    <tr style=\"text-align: right;\">\n",
              "      <th></th>\n",
              "      <th>0</th>\n",
              "    </tr>\n",
              "  </thead>\n",
              "  <tbody>\n",
              "    <tr>\n",
              "      <th>site_id_very_low</th>\n",
              "      <td>0.397575</td>\n",
              "    </tr>\n",
              "    <tr>\n",
              "      <th>app_id_very_high</th>\n",
              "      <td>0.163264</td>\n",
              "    </tr>\n",
              "    <tr>\n",
              "      <th>site_id_very_high</th>\n",
              "      <td>0.073890</td>\n",
              "    </tr>\n",
              "    <tr>\n",
              "      <th>app_id_very_low</th>\n",
              "      <td>0.062471</td>\n",
              "    </tr>\n",
              "    <tr>\n",
              "      <th>app_category_higher</th>\n",
              "      <td>0.062375</td>\n",
              "    </tr>\n",
              "    <tr>\n",
              "      <th>...</th>\n",
              "      <td>...</td>\n",
              "    </tr>\n",
              "    <tr>\n",
              "      <th>C15_1024</th>\n",
              "      <td>0.000000</td>\n",
              "    </tr>\n",
              "    <tr>\n",
              "      <th>C16_20</th>\n",
              "      <td>0.000000</td>\n",
              "    </tr>\n",
              "    <tr>\n",
              "      <th>C16_1024</th>\n",
              "      <td>0.000000</td>\n",
              "    </tr>\n",
              "    <tr>\n",
              "      <th>C15_768</th>\n",
              "      <td>0.000000</td>\n",
              "    </tr>\n",
              "    <tr>\n",
              "      <th>C15_480</th>\n",
              "      <td>0.000000</td>\n",
              "    </tr>\n",
              "  </tbody>\n",
              "</table>\n",
              "<p>103 rows × 1 columns</p>\n",
              "</div>"
            ]
          },
          "metadata": {
            "tags": []
          },
          "execution_count": 21
        }
      ]
    },
    {
      "cell_type": "code",
      "metadata": {
        "trusted": true,
        "id": "ucrWRnSxpmVf"
      },
      "source": [
        "# 調整前置作業訓練集與驗證集，將特徵依特徵重要性縮減為重要性排名之1/3\n",
        "pre_X_train = pre_X_train[feature_importances.index[:int(len(feature_importances)/3)]]\n",
        "pre_X_test = pre_X_test[feature_importances.index[:int(len(feature_importances)/3)]]"
      ],
      "execution_count": null,
      "outputs": []
    },
    {
      "cell_type": "code",
      "metadata": {
        "trusted": true,
        "id": "2r4sSBcOpmVh",
        "outputId": "586d2eea-81cd-4f56-a11e-208c7652f95e"
      },
      "source": [
        "# 使用33％的重要特徵重新進行Grid Search調參\n",
        "params = {\"criterion\":[\"gini\", \"entropy\"], \"max_depth\":range(1,12)}\n",
        "grid_search = GridSearchCV(DecisionTreeClassifier(), param_grid=params, scoring='roc_auc', cv=100, verbose=1, n_jobs=-1)\n",
        "grid_search.fit(pre_X_train, pre_y_train)\n",
        "grid_search.best_score_, grid_search.best_estimator_, grid_search.best_params_"
      ],
      "execution_count": null,
      "outputs": [
        {
          "output_type": "stream",
          "text": [
            "Fitting 100 folds for each of 22 candidates, totalling 2200 fits\n"
          ],
          "name": "stdout"
        },
        {
          "output_type": "stream",
          "text": [
            "[Parallel(n_jobs=-1)]: Using backend LokyBackend with 2 concurrent workers.\n",
            "[Parallel(n_jobs=-1)]: Done  46 tasks      | elapsed:   15.6s\n",
            "[Parallel(n_jobs=-1)]: Done 196 tasks      | elapsed:  1.4min\n",
            "[Parallel(n_jobs=-1)]: Done 446 tasks      | elapsed:  5.2min\n",
            "[Parallel(n_jobs=-1)]: Done 796 tasks      | elapsed: 13.7min\n",
            "[Parallel(n_jobs=-1)]: Done 1246 tasks      | elapsed: 24.2min\n",
            "[Parallel(n_jobs=-1)]: Done 1796 tasks      | elapsed: 33.7min\n",
            "[Parallel(n_jobs=-1)]: Done 2200 out of 2200 | elapsed: 45.8min finished\n"
          ],
          "name": "stderr"
        },
        {
          "output_type": "execute_result",
          "data": {
            "text/plain": [
              "(0.7311541423612149,\n",
              " DecisionTreeClassifier(max_depth=11),\n",
              " {'criterion': 'gini', 'max_depth': 11})"
            ]
          },
          "metadata": {
            "tags": []
          },
          "execution_count": 23
        }
      ]
    },
    {
      "cell_type": "code",
      "metadata": {
        "trusted": true,
        "id": "3KucRLvZpmVj",
        "outputId": "328227a4-a0cf-4faa-ede4-8837c8eda1ca"
      },
      "source": [
        "# 調整前置作業完整資料集，將特徵依特徵重要性縮減為重要性排名之1/3\n",
        "pre_X = pre_X[feature_importances.index[:int(len(feature_importances)/3)]]\n",
        "\n",
        "# 依據Grid Search的結果建立一個決策樹模型，並fit完整資料 (前置資料)\n",
        "tree = grid_search.best_estimator_\n",
        "tree.fit(pre_X,pre_y)\n",
        "\n",
        "# 輸出重要特徵，並依特徵之重要性排序\n",
        "feature_importances = pd.DataFrame(tree.feature_importances_)\n",
        "feature_importances.index = pre_X_train.columns\n",
        "feature_importances = feature_importances.sort_values(0,ascending=False)\n",
        "feature_importances"
      ],
      "execution_count": null,
      "outputs": [
        {
          "output_type": "execute_result",
          "data": {
            "text/plain": [
              "                                0\n",
              "site_id_very_low         0.442132\n",
              "app_id_very_high         0.176769\n",
              "site_id_very_high        0.077330\n",
              "app_category_higher      0.066163\n",
              "app_id_very_low          0.057690\n",
              "C16_250                  0.024689\n",
              "device_model_very_high   0.018534\n",
              "C18_1                    0.017282\n",
              "device_model_lower       0.013803\n",
              "device_model_very_low    0.013268\n",
              "site_domain_very_low     0.012004\n",
              "site_category_higher     0.007946\n",
              "site_id_higher           0.007492\n",
              "C16_50                   0.005871\n",
              "hour_17-19               0.005691\n",
              "hour_19-21               0.005114\n",
              "banner_pos_0             0.005105\n",
              "C18_2                    0.004705\n",
              "device_conn_type_2       0.002938\n",
              "hour_21-23               0.002855\n",
              "device_conn_type_0       0.002851\n",
              "device_ip_very_low       0.002778\n",
              "banner_pos_1             0.002710\n",
              "device_ip_very_high      0.002665\n",
              "C18_3                    0.002622\n",
              "weekday_2                0.002522\n",
              "device_ip_mid            0.002520\n",
              "weekday_1                0.002515\n",
              "C18_0                    0.002340\n",
              "site_category_very_high  0.002326\n",
              "app_id_lower             0.002297\n",
              "weekday_3                0.001954\n",
              "weekday_0                0.001562\n",
              "C16_36                   0.000958"
            ],
            "text/html": [
              "<div>\n",
              "<style scoped>\n",
              "    .dataframe tbody tr th:only-of-type {\n",
              "        vertical-align: middle;\n",
              "    }\n",
              "\n",
              "    .dataframe tbody tr th {\n",
              "        vertical-align: top;\n",
              "    }\n",
              "\n",
              "    .dataframe thead th {\n",
              "        text-align: right;\n",
              "    }\n",
              "</style>\n",
              "<table border=\"1\" class=\"dataframe\">\n",
              "  <thead>\n",
              "    <tr style=\"text-align: right;\">\n",
              "      <th></th>\n",
              "      <th>0</th>\n",
              "    </tr>\n",
              "  </thead>\n",
              "  <tbody>\n",
              "    <tr>\n",
              "      <th>site_id_very_low</th>\n",
              "      <td>0.442132</td>\n",
              "    </tr>\n",
              "    <tr>\n",
              "      <th>app_id_very_high</th>\n",
              "      <td>0.176769</td>\n",
              "    </tr>\n",
              "    <tr>\n",
              "      <th>site_id_very_high</th>\n",
              "      <td>0.077330</td>\n",
              "    </tr>\n",
              "    <tr>\n",
              "      <th>app_category_higher</th>\n",
              "      <td>0.066163</td>\n",
              "    </tr>\n",
              "    <tr>\n",
              "      <th>app_id_very_low</th>\n",
              "      <td>0.057690</td>\n",
              "    </tr>\n",
              "    <tr>\n",
              "      <th>C16_250</th>\n",
              "      <td>0.024689</td>\n",
              "    </tr>\n",
              "    <tr>\n",
              "      <th>device_model_very_high</th>\n",
              "      <td>0.018534</td>\n",
              "    </tr>\n",
              "    <tr>\n",
              "      <th>C18_1</th>\n",
              "      <td>0.017282</td>\n",
              "    </tr>\n",
              "    <tr>\n",
              "      <th>device_model_lower</th>\n",
              "      <td>0.013803</td>\n",
              "    </tr>\n",
              "    <tr>\n",
              "      <th>device_model_very_low</th>\n",
              "      <td>0.013268</td>\n",
              "    </tr>\n",
              "    <tr>\n",
              "      <th>site_domain_very_low</th>\n",
              "      <td>0.012004</td>\n",
              "    </tr>\n",
              "    <tr>\n",
              "      <th>site_category_higher</th>\n",
              "      <td>0.007946</td>\n",
              "    </tr>\n",
              "    <tr>\n",
              "      <th>site_id_higher</th>\n",
              "      <td>0.007492</td>\n",
              "    </tr>\n",
              "    <tr>\n",
              "      <th>C16_50</th>\n",
              "      <td>0.005871</td>\n",
              "    </tr>\n",
              "    <tr>\n",
              "      <th>hour_17-19</th>\n",
              "      <td>0.005691</td>\n",
              "    </tr>\n",
              "    <tr>\n",
              "      <th>hour_19-21</th>\n",
              "      <td>0.005114</td>\n",
              "    </tr>\n",
              "    <tr>\n",
              "      <th>banner_pos_0</th>\n",
              "      <td>0.005105</td>\n",
              "    </tr>\n",
              "    <tr>\n",
              "      <th>C18_2</th>\n",
              "      <td>0.004705</td>\n",
              "    </tr>\n",
              "    <tr>\n",
              "      <th>device_conn_type_2</th>\n",
              "      <td>0.002938</td>\n",
              "    </tr>\n",
              "    <tr>\n",
              "      <th>hour_21-23</th>\n",
              "      <td>0.002855</td>\n",
              "    </tr>\n",
              "    <tr>\n",
              "      <th>device_conn_type_0</th>\n",
              "      <td>0.002851</td>\n",
              "    </tr>\n",
              "    <tr>\n",
              "      <th>device_ip_very_low</th>\n",
              "      <td>0.002778</td>\n",
              "    </tr>\n",
              "    <tr>\n",
              "      <th>banner_pos_1</th>\n",
              "      <td>0.002710</td>\n",
              "    </tr>\n",
              "    <tr>\n",
              "      <th>device_ip_very_high</th>\n",
              "      <td>0.002665</td>\n",
              "    </tr>\n",
              "    <tr>\n",
              "      <th>C18_3</th>\n",
              "      <td>0.002622</td>\n",
              "    </tr>\n",
              "    <tr>\n",
              "      <th>weekday_2</th>\n",
              "      <td>0.002522</td>\n",
              "    </tr>\n",
              "    <tr>\n",
              "      <th>device_ip_mid</th>\n",
              "      <td>0.002520</td>\n",
              "    </tr>\n",
              "    <tr>\n",
              "      <th>weekday_1</th>\n",
              "      <td>0.002515</td>\n",
              "    </tr>\n",
              "    <tr>\n",
              "      <th>C18_0</th>\n",
              "      <td>0.002340</td>\n",
              "    </tr>\n",
              "    <tr>\n",
              "      <th>site_category_very_high</th>\n",
              "      <td>0.002326</td>\n",
              "    </tr>\n",
              "    <tr>\n",
              "      <th>app_id_lower</th>\n",
              "      <td>0.002297</td>\n",
              "    </tr>\n",
              "    <tr>\n",
              "      <th>weekday_3</th>\n",
              "      <td>0.001954</td>\n",
              "    </tr>\n",
              "    <tr>\n",
              "      <th>weekday_0</th>\n",
              "      <td>0.001562</td>\n",
              "    </tr>\n",
              "    <tr>\n",
              "      <th>C16_36</th>\n",
              "      <td>0.000958</td>\n",
              "    </tr>\n",
              "  </tbody>\n",
              "</table>\n",
              "</div>"
            ]
          },
          "metadata": {
            "tags": []
          },
          "execution_count": 24
        }
      ]
    },
    {
      "cell_type": "code",
      "metadata": {
        "trusted": true,
        "id": "X4nfw9xOpmVl"
      },
      "source": [
        "# 最終預測模型之特徵，將採用特徵值 .005以上的變數\n",
        "feature_len = len(feature_importances[feature_importances[feature_importances.columns[0]] > 0.005])\n",
        "\n",
        "# 調整最終完整Train Set 與 Test set之特徵\n",
        "y = train[['click']]\n",
        "X = train[feature_importances[:feature_len].index]\n",
        "test = test[feature_importances[:feature_len].index]"
      ],
      "execution_count": null,
      "outputs": []
    },
    {
      "cell_type": "code",
      "metadata": {
        "trusted": true,
        "id": "5byt-h7PpmVo",
        "outputId": "398684fa-cbe4-4828-cada-9ec3f74f2cdd"
      },
      "source": [
        "from xgboost import XGBClassifier\n",
        "\n",
        "# 使用xgboost 建模，並指定先前調參得到的節點深度限制使用xgboost 建模，並指定先前調參得到的節點深度限制\n",
        "model = XGBClassifier(tree_method = 'gpu_hist', n_jobs=-1, n_estimators=500, max_depth=11)\n",
        "model.fit(X,y.values.ravel())\n",
        "y_pred = model.predict(X)\n",
        "print(\"Roc_auc_score: \",roc_auc_score(y,y_pred)*100,\"%\")\n",
        "\n",
        "# 繪出混淆矩陣，查看預測結果\n",
        "confmat = confusion_matrix(y_true=y, y_pred=y_pred, labels=[0, 1])\n",
        "\n",
        "fig, ax = plt.subplots(figsize=(2.5, 2.5))\n",
        "ax.matshow(confmat, cmap=plt.cm.Blues, alpha=0.3)\n",
        "for i in range(confmat.shape[0]):\n",
        "    for j in range(confmat.shape[1]):\n",
        "        ax.text(x=j, y=i, s=confmat[i, j], va='center', ha='center')\n",
        "\n",
        "plt.xlabel('Predicted label')\n",
        "plt.ylabel('True label')\n",
        "\n",
        "plt.tight_layout()\n",
        "plt.show()\n",
        "\n",
        "# 匯出submission並進行提交\n",
        "submission = pd.read_csv(samplesubmision_file, compression='gzip', index_col='id')\n",
        "submission[submission.columns[0]] = model.predict_proba(test)[:,1]\n",
        "submission.to_csv('submission.csv')"
      ],
      "execution_count": null,
      "outputs": [
        {
          "output_type": "stream",
          "text": [
            "Roc_auc_score:  51.193992993959625 %\n"
          ],
          "name": "stdout"
        },
        {
          "output_type": "display_data",
          "data": {
            "text/plain": [
              "<Figure size 180x180 with 1 Axes>"
            ],
            "image/png": "[encoded data removed]"
          },
          "metadata": {
            "tags": [],
            "needs_background": "light"
          }
        },
        {
          "output_type": "stream",
          "text": [
            "/opt/conda/lib/python3.7/site-packages/numpy/lib/arraysetops.py:569: FutureWarning: elementwise comparison failed; returning scalar instead, but in the future will perform elementwise comparison\n",
            "  mask |= (ar1 == a)\n"
          ],
          "name": "stderr"
        }
      ]
    },
    {
      "cell_type": "markdown",
      "metadata": {
        "id": "72qHNhrjpmVq"
      },
      "source": [
        "本次提交分數為 .40560；Leader Board Top 1 分數為 0.37913"
      ]
    }
  ]
}