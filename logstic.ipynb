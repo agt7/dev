{
  "nbformat": 4,
  "nbformat_minor": 0,
  "metadata": {
    "colab": {
      "name": "logstic.ipynb",
      "provenance": [],
      "private_outputs": true,
      "collapsed_sections": [],
      "mount_file_id": "1EZw_E0PRpA6YK4p4cHWqpFFL4ZtEh0a5",
      "authorship_tag": "ABX9TyOczpgv6qPmVG0czwIG1mEy",
      "include_colab_link": true
    },
    "kernelspec": {
      "name": "python3",
      "display_name": "Python 3"
    }
  },
  "cells": [
    {
      "cell_type": "markdown",
      "metadata": {
        "id": "view-in-github",
        "colab_type": "text"
      },
      "source": [
        "<a href=\"https://colab.research.google.com/github/agt7/dev/blob/master/logstic.ipynb\" target=\"_parent\"><img src=\"https://colab.research.google.com/assets/colab-badge.svg\" alt=\"Open In Colab\"/></a>"
      ]
    },
    {
      "cell_type": "code",
      "metadata": {
        "id": "M4ZfnHbxcBJs"
      },
      "source": [
        "from google.colab import drive\n",
        "drive.mount('/content/drive/')"
      ],
      "execution_count": null,
      "outputs": []
    },
    {
      "cell_type": "code",
      "metadata": {
        "id": "nUgOAnmKgZFi"
      },
      "source": [
        "import pandas as pd\n",
        "import numpy as np\n",
        "from sklearn import linear_model\n",
        "import joblib"
      ],
      "execution_count": null,
      "outputs": []
    },
    {
      "cell_type": "code",
      "metadata": {
        "id": "RM8MBuQQgd1Y"
      },
      "source": [
        "# CSVファイルのパス（学習用）\n",
        "LOAD_CSV_PATH = \"/content/drive/My Drive/ml/data/logistic/input.csv\"\n",
        "\n",
        "# CSVファイルのパス（検証用）\n",
        "LOAD_TEST_PATH = \"/content/drive/My Drive/ml/data/logistic/test.csv\"\n",
        "\n",
        "# CLFファイルのパス（学習済ファイル用）\n",
        "SAVE_CLF_PATH = \"/content/drive/My Drive/ml/data/logistic/train.clf\"\n"
      ],
      "execution_count": null,
      "outputs": []
    },
    {
      "cell_type": "code",
      "metadata": {
        "id": "rOOnneP3Zzm5"
      },
      "source": [
        "# 学習用のデータを読み込み\n",
        "data = pd.read_csv(LOAD_CSV_PATH, sep=\",\")\n",
        "\n",
        "# 説明変数：x1, x2\n",
        "X = data.loc[:, ['x1', 'x2']].values\n",
        "\n",
        "# 目的変数：x3\n",
        "y = data['x3'].values\n",
        "\n",
        "# 学習（ロジスティック回帰）\n",
        "clf = linear_model.LogisticRegression(random_state=0)\n",
        "clf.fit(X, y)\n",
        "\n",
        "# 学習結果を出力\n",
        "joblib.dump(clf, SAVE_CLF_PATH)"
      ],
      "execution_count": null,
      "outputs": []
    },
    {
      "cell_type": "code",
      "metadata": {
        "id": "JaETNDUPoyUb"
      },
      "source": [
        "# 学習済ファイルのロード\n",
        "clf2 = joblib.load(SAVE_CLF_PATH)\n",
        "\n",
        "# ロジスティック回帰の学習結果\n",
        "a = clf2.coef_\n",
        "b = clf2.intercept_  \n",
        "print(\"回帰係数:\", a) # 回帰係数: [[-0.02217148  0.31554403]]\n",
        "print(\"切片:\", b)     # 切片: [-1.06960241]\n",
        "print(\"決定係数:\", clf2.score(X, y)) # 決定係数: 0.818181818182"
      ],
      "execution_count": null,
      "outputs": []
    },
    {
      "cell_type": "code",
      "metadata": {
        "id": "sL43phmqiyNs"
      },
      "source": [
        "# テスト用データの読み込み\n",
        "data = pd.read_csv(LOAD_TEST_PATH, sep=\",\")\n",
        "\n",
        "# 学習結果の検証（テスト用データx1, x2を入力）\n",
        "X_test = data.loc[:, ['x1', 'x2']].values\n",
        "y_predict = clf.predict(X_test)\n",
        "\n",
        "# 検証結果の表示\n",
        "print(\"検証結果：\", y_predict)"
      ],
      "execution_count": null,
      "outputs": []
    },
    {
      "cell_type": "code",
      "metadata": {
        "id": "A8ETAhf2rpFy"
      },
      "source": [
        "# https://qiita.com/0NE_shoT_/items/c42d8093e2fed9bf1b7a\n",
        "# proba = リスク評価\n",
        "probs = clf.predict_proba(X_test)\n",
        "print(\"0である確率, 1である確率確率:\\n\", probs)\n",
        "# 1である確率が「目的の確率」？\n",
        "print(\"1である確率確率:\\n\", probs[:, 1])"
      ],
      "execution_count": null,
      "outputs": []
    },
    {
      "cell_type": "code",
      "metadata": {
        "id": "w8l1Q_GCwACy"
      },
      "source": [
        "# scala spack\n",
        "# https://github.com/x1-/spark-example/blob/master/src/main/scala/com/inkenkun/x1/spark/examples/ml/HashingTrickLR.scala\n",
        "# https://www.slideshare.net/x1ichi/spark-51164327\n",
        "\n",
        "# python\n",
        "# 交差検証(CrossValidator)\n",
        "# https://qiita.com/tomov3/items/039d4271ed30490edf7b\n"
      ],
      "execution_count": null,
      "outputs": []
    },
    {
      "cell_type": "code",
      "metadata": {
        "id": "-fc0sh5P43ap"
      },
      "source": [
        "# ROC曲線\n",
        "\n",
        "from sklearn import metrics\n",
        "import matplotlib.pyplot as plt\n",
        "import numpy as np\n",
        "\n",
        "# FPR, TPR(, しきい値) を算出\n",
        "fpr, tpr, thresholds = metrics.roc_curve(y_predict, y_predict)\n",
        "\n",
        "# ついでにAUCも\n",
        "auc = metrics.auc(fpr, tpr)\n",
        "\n",
        "# ROC曲線をプロット\n",
        "plt.plot(fpr, tpr, label='ROC curve (area = %.2f)'%auc)\n",
        "plt.legend()\n",
        "plt.title('ROC curve')\n",
        "plt.xlabel('False Positive Rate')\n",
        "plt.ylabel('True Positive Rate')\n",
        "plt.grid(True)\n"
      ],
      "execution_count": null,
      "outputs": []
    }
  ]
}