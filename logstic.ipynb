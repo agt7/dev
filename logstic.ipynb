{
  "nbformat": 4,
  "nbformat_minor": 0,
  "metadata": {
    "colab": {
      "name": "logstic.ipynb",
      "provenance": [],
      "private_outputs": true,
      "collapsed_sections": [],
      "mount_file_id": "1EZw_E0PRpA6YK4p4cHWqpFFL4ZtEh0a5",
      "authorship_tag": "ABX9TyNERBOvT9KNoSBFRgEU6hAd",
      "include_colab_link": true
    },
    "kernelspec": {
      "name": "python3",
      "display_name": "Python 3"
    }
  },
  "cells": [
    {
      "cell_type": "markdown",
      "metadata": {
        "id": "view-in-github",
        "colab_type": "text"
      },
      "source": [
        "<a href=\"https://colab.research.google.com/github/agt7/dev/blob/master/logstic.ipynb\" target=\"_parent\"><img src=\"https://colab.research.google.com/assets/colab-badge.svg\" alt=\"Open In Colab\"/></a>"
      ]
    },
    {
      "cell_type": "code",
      "metadata": {
        "id": "M4ZfnHbxcBJs"
      },
      "source": [
        "from google.colab import drive\n",
        "drive.mount('/content/drive/')"
      ],
      "execution_count": null,
      "outputs": []
    },
    {
      "cell_type": "code",
      "metadata": {
        "id": "nUgOAnmKgZFi"
      },
      "source": [
        "import pandas as pd\n",
        "import numpy as np\n",
        "from sklearn import linear_model\n",
        "import joblib"
      ],
      "execution_count": null,
      "outputs": []
    },
    {
      "cell_type": "code",
      "metadata": {
        "id": "RM8MBuQQgd1Y"
      },
      "source": [
        "# CSVファイルのパス（学習用）\n",
        "LOAD_CSV_PATH = \"/content/drive/My Drive/ml/data/logistic/input.csv\"\n",
        "\n",
        "# CSVファイルのパス（検証用）\n",
        "LOAD_TEST_PATH = \"/content/drive/My Drive/ml/data/logistic/test.csv\"\n",
        "\n",
        "# CLFファイルのパス（学習済ファイル用）\n",
        "SAVE_CLF_PATH = \"/content/drive/My Drive/ml/data/logistic/train.clf\"\n"
      ],
      "execution_count": null,
      "outputs": []
    },
    {
      "cell_type": "code",
      "metadata": {
        "id": "XmhOUS_ZgjPt"
      },
      "source": [
        "# 学習用のデータを読み込み\n",
        "data = pd.read_csv(LOAD_CSV_PATH, sep=\",\")"
      ],
      "execution_count": null,
      "outputs": []
    },
    {
      "cell_type": "code",
      "metadata": {
        "id": "rOOnneP3Zzm5"
      },
      "source": [
        "# 説明変数：x1, x2\n",
        "X = data.loc[:, ['x1', 'x2']].values\n",
        "\n",
        "# 目的変数：x3\n",
        "y = data['x3'].values\n",
        "\n",
        "# 学習（ロジスティック回帰）\n",
        "clf = linear_model.LogisticRegression(random_state=0)\n",
        "clf.fit(X, y)\n",
        "\n",
        "# 学習結果を出力\n",
        "joblib.dump(clf, SAVE_CLF_PATH)\n",
        "\n",
        "# 学習済ファイルのロード\n",
        "clf2 = joblib.load(SAVE_CLF_PATH)"
      ],
      "execution_count": null,
      "outputs": []
    },
    {
      "cell_type": "code",
      "metadata": {
        "id": "E6M0ctpXi8_t"
      },
      "source": [
        "# ロジスティック回帰の学習結果\n",
        "a = clf2.coef_\n",
        "b = clf2.intercept_  \n",
        "print(\"回帰係数:\", a) # 回帰係数: [[-0.02217148  0.31554403]]\n",
        "print(\"切片:\", b)     # 切片: [-1.06960241]\n",
        "print(\"決定係数:\", clf2.score(X, y)) # 決定係数: 0.818181818182"
      ],
      "execution_count": null,
      "outputs": []
    },
    {
      "cell_type": "code",
      "metadata": {
        "id": "sL43phmqiyNs"
      },
      "source": [
        "# テスト用データの読み込み\n",
        "data = pd.read_csv(LOAD_TEST_PATH, sep=\",\")\n",
        "\n",
        "# 学習結果の検証（テスト用データx1, x2を入力）\n",
        "X_test = data.loc[:, ['x1', 'x2']].values\n",
        "y_predict = clf.predict(X_test)"
      ],
      "execution_count": null,
      "outputs": []
    },
    {
      "cell_type": "code",
      "metadata": {
        "id": "0sotNLSGinbc"
      },
      "source": [
        "# 検証結果の表示\n",
        "print(\"検証結果：\", y_predict)\n"
      ],
      "execution_count": null,
      "outputs": []
    }
  ]
}