{
  "nbformat": 4,
  "nbformat_minor": 0,
  "metadata": {
    "kernelspec": {
      "name": "python3",
      "display_name": "Python 3",
      "language": "python"
    },
    "language_info": {
      "name": "python",
      "version": "3.7.6",
      "mimetype": "text/x-python",
      "codemirror_mode": {
        "name": "ipython",
        "version": 3
      },
      "pygments_lexer": "ipython3",
      "nbconvert_exporter": "python",
      "file_extension": ".py"
    },
    "colab": {
      "name": "logisticregression-practice-0815.ipynb",
      "provenance": [],
      "include_colab_link": true
    }
  },
  "cells": [
    {
      "cell_type": "markdown",
      "metadata": {
        "id": "view-in-github",
        "colab_type": "text"
      },
      "source": [
        "<a href=\"https://colab.research.google.com/github/agt7/dev/blob/master/logisticregression_practice_0815.ipynb\" target=\"_parent\"><img src=\"https://colab.research.google.com/assets/colab-badge.svg\" alt=\"Open In Colab\"/></a>"
      ]
    },
    {
      "cell_type": "markdown",
      "metadata": {
        "id": "Z3VvXgkTqgBh"
      },
      "source": [
        "Submission Format\n",
        "The submissions should contain the predicted probability of click for each ad impression in the test set using the following format:\n",
        "\n",
        "id,click\n",
        "\n",
        "60000000,0.384\n",
        "\n",
        "63895816,0.5919\n",
        "\n",
        "759281658,0.1934\n",
        "\n",
        "895936184,0.9572"
      ]
    },
    {
      "cell_type": "code",
      "metadata": {
        "_uuid": "d629ff2d2480ee46fbb7e2d37f6b5fab8052498a",
        "_cell_guid": "79c7e3d0-c299-4dcb-8224-4455121ee9b0",
        "trusted": true,
        "id": "_DyCZUr9qgBi"
      },
      "source": [
        "import numpy as np\n",
        "import pandas as pd\n",
        "import matplotlib.pyplot as plt\n",
        "import keras as K\n",
        "import tensorflow as tf\n",
        "import gzip\n",
        "import random\n",
        "%matplotlib inline"
      ],
      "execution_count": null,
      "outputs": []
    },
    {
      "cell_type": "code",
      "metadata": {
        "trusted": true,
        "id": "F8M05h97qgBl",
        "outputId": "43d4b362-41a4-41db-cef9-3a0e0753a17c"
      },
      "source": [
        "random.seed(5566)\n",
        "num_lines = 40428968 - 1# train.gz file lines counting\n",
        "sample_size = 2000000\n",
        "skip = sorted(random.sample(range(1, num_lines), num_lines-sample_size))\n",
        "skip[0]\n",
        "# skip = skip[1:] # if contains index=0, the header will be removed"
      ],
      "execution_count": null,
      "outputs": [
        {
          "output_type": "execute_result",
          "data": {
            "text/plain": [
              "1"
            ]
          },
          "metadata": {
            "tags": []
          },
          "execution_count": 3
        }
      ]
    },
    {
      "cell_type": "code",
      "metadata": {
        "trusted": true,
        "id": "PMnhc2goqgBo",
        "outputId": "70f2c2ba-5d6c-4289-eaf3-b4d3c9a64f54"
      },
      "source": [
        "train_file_path = \"../input/avazu-ctr-prediction/train.gz\"\n",
        "\n",
        "# skip = sorted(random.sample(range(num_lines), num_lines-sample_size))\n",
        "train_df = pd.read_csv(\n",
        "    train_file_path, \n",
        "    header=0,\n",
        "    skiprows=skip)\n",
        "print(len(train_df))\n",
        "train_df.head()"
      ],
      "execution_count": null,
      "outputs": [
        {
          "output_type": "stream",
          "text": [
            "2000000\n"
          ],
          "name": "stdout"
        },
        {
          "output_type": "execute_result",
          "data": {
            "text/plain": [
              "                     id  click      hour    C1  banner_pos   site_id  \\\n",
              "0  10000679056417042096      0  14102100  1005           1  fe8cc448   \n",
              "1  10010730108771379386      0  14102100  1005           1  e151e245   \n",
              "2  10017325201002992404      1  14102100  1005           0  1fbe01fe   \n",
              "3  10018897422996679694      0  14102100  1005           1  e151e245   \n",
              "4  10024660782388112342      1  14102100  1005           1  d9750ee7   \n",
              "\n",
              "  site_domain site_category    app_id app_domain  ... device_type  \\\n",
              "0    9166c161      0569f928  ecad2386   7801e8d9  ...           1   \n",
              "1    7e091613      f028772b  ecad2386   7801e8d9  ...           1   \n",
              "2    f3845767      28905ebd  ecad2386   7801e8d9  ...           1   \n",
              "3    7e091613      f028772b  ecad2386   7801e8d9  ...           1   \n",
              "4    98572c79      f028772b  ecad2386   7801e8d9  ...           1   \n",
              "\n",
              "  device_conn_type    C14  C15  C16   C17  C18   C19     C20  C21  \n",
              "0                0  18993  320   50  2161    0    35      -1  157  \n",
              "1                0  20634  320   50  2374    3    39      -1   23  \n",
              "2                0  15705  320   50  1722    0    35      -1   79  \n",
              "3                0  20366  320   50  2333    0    39      -1  157  \n",
              "4                0  17614  320   50  1993    2  1063  100083   33  \n",
              "\n",
              "[5 rows x 24 columns]"
            ],
            "text/html": [
              "<div>\n",
              "<style scoped>\n",
              "    .dataframe tbody tr th:only-of-type {\n",
              "        vertical-align: middle;\n",
              "    }\n",
              "\n",
              "    .dataframe tbody tr th {\n",
              "        vertical-align: top;\n",
              "    }\n",
              "\n",
              "    .dataframe thead th {\n",
              "        text-align: right;\n",
              "    }\n",
              "</style>\n",
              "<table border=\"1\" class=\"dataframe\">\n",
              "  <thead>\n",
              "    <tr style=\"text-align: right;\">\n",
              "      <th></th>\n",
              "      <th>id</th>\n",
              "      <th>click</th>\n",
              "      <th>hour</th>\n",
              "      <th>C1</th>\n",
              "      <th>banner_pos</th>\n",
              "      <th>site_id</th>\n",
              "      <th>site_domain</th>\n",
              "      <th>site_category</th>\n",
              "      <th>app_id</th>\n",
              "      <th>app_domain</th>\n",
              "      <th>...</th>\n",
              "      <th>device_type</th>\n",
              "      <th>device_conn_type</th>\n",
              "      <th>C14</th>\n",
              "      <th>C15</th>\n",
              "      <th>C16</th>\n",
              "      <th>C17</th>\n",
              "      <th>C18</th>\n",
              "      <th>C19</th>\n",
              "      <th>C20</th>\n",
              "      <th>C21</th>\n",
              "    </tr>\n",
              "  </thead>\n",
              "  <tbody>\n",
              "    <tr>\n",
              "      <th>0</th>\n",
              "      <td>10000679056417042096</td>\n",
              "      <td>0</td>\n",
              "      <td>14102100</td>\n",
              "      <td>1005</td>\n",
              "      <td>1</td>\n",
              "      <td>fe8cc448</td>\n",
              "      <td>9166c161</td>\n",
              "      <td>0569f928</td>\n",
              "      <td>ecad2386</td>\n",
              "      <td>7801e8d9</td>\n",
              "      <td>...</td>\n",
              "      <td>1</td>\n",
              "      <td>0</td>\n",
              "      <td>18993</td>\n",
              "      <td>320</td>\n",
              "      <td>50</td>\n",
              "      <td>2161</td>\n",
              "      <td>0</td>\n",
              "      <td>35</td>\n",
              "      <td>-1</td>\n",
              "      <td>157</td>\n",
              "    </tr>\n",
              "    <tr>\n",
              "      <th>1</th>\n",
              "      <td>10010730108771379386</td>\n",
              "      <td>0</td>\n",
              "      <td>14102100</td>\n",
              "      <td>1005</td>\n",
              "      <td>1</td>\n",
              "      <td>e151e245</td>\n",
              "      <td>7e091613</td>\n",
              "      <td>f028772b</td>\n",
              "      <td>ecad2386</td>\n",
              "      <td>7801e8d9</td>\n",
              "      <td>...</td>\n",
              "      <td>1</td>\n",
              "      <td>0</td>\n",
              "      <td>20634</td>\n",
              "      <td>320</td>\n",
              "      <td>50</td>\n",
              "      <td>2374</td>\n",
              "      <td>3</td>\n",
              "      <td>39</td>\n",
              "      <td>-1</td>\n",
              "      <td>23</td>\n",
              "    </tr>\n",
              "    <tr>\n",
              "      <th>2</th>\n",
              "      <td>10017325201002992404</td>\n",
              "      <td>1</td>\n",
              "      <td>14102100</td>\n",
              "      <td>1005</td>\n",
              "      <td>0</td>\n",
              "      <td>1fbe01fe</td>\n",
              "      <td>f3845767</td>\n",
              "      <td>28905ebd</td>\n",
              "      <td>ecad2386</td>\n",
              "      <td>7801e8d9</td>\n",
              "      <td>...</td>\n",
              "      <td>1</td>\n",
              "      <td>0</td>\n",
              "      <td>15705</td>\n",
              "      <td>320</td>\n",
              "      <td>50</td>\n",
              "      <td>1722</td>\n",
              "      <td>0</td>\n",
              "      <td>35</td>\n",
              "      <td>-1</td>\n",
              "      <td>79</td>\n",
              "    </tr>\n",
              "    <tr>\n",
              "      <th>3</th>\n",
              "      <td>10018897422996679694</td>\n",
              "      <td>0</td>\n",
              "      <td>14102100</td>\n",
              "      <td>1005</td>\n",
              "      <td>1</td>\n",
              "      <td>e151e245</td>\n",
              "      <td>7e091613</td>\n",
              "      <td>f028772b</td>\n",
              "      <td>ecad2386</td>\n",
              "      <td>7801e8d9</td>\n",
              "      <td>...</td>\n",
              "      <td>1</td>\n",
              "      <td>0</td>\n",
              "      <td>20366</td>\n",
              "      <td>320</td>\n",
              "      <td>50</td>\n",
              "      <td>2333</td>\n",
              "      <td>0</td>\n",
              "      <td>39</td>\n",
              "      <td>-1</td>\n",
              "      <td>157</td>\n",
              "    </tr>\n",
              "    <tr>\n",
              "      <th>4</th>\n",
              "      <td>10024660782388112342</td>\n",
              "      <td>1</td>\n",
              "      <td>14102100</td>\n",
              "      <td>1005</td>\n",
              "      <td>1</td>\n",
              "      <td>d9750ee7</td>\n",
              "      <td>98572c79</td>\n",
              "      <td>f028772b</td>\n",
              "      <td>ecad2386</td>\n",
              "      <td>7801e8d9</td>\n",
              "      <td>...</td>\n",
              "      <td>1</td>\n",
              "      <td>0</td>\n",
              "      <td>17614</td>\n",
              "      <td>320</td>\n",
              "      <td>50</td>\n",
              "      <td>1993</td>\n",
              "      <td>2</td>\n",
              "      <td>1063</td>\n",
              "      <td>100083</td>\n",
              "      <td>33</td>\n",
              "    </tr>\n",
              "  </tbody>\n",
              "</table>\n",
              "<p>5 rows × 24 columns</p>\n",
              "</div>"
            ]
          },
          "metadata": {
            "tags": []
          },
          "execution_count": 4
        }
      ]
    },
    {
      "cell_type": "code",
      "metadata": {
        "trusted": true,
        "id": "R3Km0oN3qgBr"
      },
      "source": [
        "test_df = pd.read_csv(\"../input/avazu-ctr-prediction/test.gz\", header=0)"
      ],
      "execution_count": null,
      "outputs": []
    },
    {
      "cell_type": "code",
      "metadata": {
        "trusted": true,
        "id": "UHiETpXHqgBt"
      },
      "source": [
        "submission_df = pd.read_csv(\"../input/avazu-ctr-prediction/sampleSubmission.gz\")"
      ],
      "execution_count": null,
      "outputs": []
    },
    {
      "cell_type": "code",
      "metadata": {
        "trusted": true,
        "id": "HEHgKeQGqgBw"
      },
      "source": [
        "def to_date_column(df):\n",
        "    df[\"dt_hour\"] = pd.to_datetime(df[\"hour\"], format=\"%y%m%d%H\")\n",
        "    df[\"year\"] = df[\"dt_hour\"].dt.year\n",
        "    df[\"month\"] = df[\"dt_hour\"].dt.month\n",
        "    df[\"day\"] = df[\"dt_hour\"].dt.day\n",
        "    df[\"int_hour\"] = df[\"dt_hour\"].dt.hour\n",
        "    df[\"is_weekday\"] = df[\"dt_hour\"].dt.dayofweek\n",
        "    df[\"is_weekend\"] = df.apply(lambda x: x[\"is_weekday\"] in [5, 6], axis=1)"
      ],
      "execution_count": null,
      "outputs": []
    },
    {
      "cell_type": "code",
      "metadata": {
        "trusted": true,
        "id": "Nn2_WcEQqgBy",
        "outputId": "71628477-479f-4a33-95d1-4de2d4f81396"
      },
      "source": [
        "to_date_column(train_df)\n",
        "train_df.head()"
      ],
      "execution_count": null,
      "outputs": [
        {
          "output_type": "execute_result",
          "data": {
            "text/plain": [
              "                     id  click      hour    C1  banner_pos   site_id  \\\n",
              "0  10000679056417042096      0  14102100  1005           1  fe8cc448   \n",
              "1  10010730108771379386      0  14102100  1005           1  e151e245   \n",
              "2  10017325201002992404      1  14102100  1005           0  1fbe01fe   \n",
              "3  10018897422996679694      0  14102100  1005           1  e151e245   \n",
              "4  10024660782388112342      1  14102100  1005           1  d9750ee7   \n",
              "\n",
              "  site_domain site_category    app_id app_domain  ...   C19     C20  C21  \\\n",
              "0    9166c161      0569f928  ecad2386   7801e8d9  ...    35      -1  157   \n",
              "1    7e091613      f028772b  ecad2386   7801e8d9  ...    39      -1   23   \n",
              "2    f3845767      28905ebd  ecad2386   7801e8d9  ...    35      -1   79   \n",
              "3    7e091613      f028772b  ecad2386   7801e8d9  ...    39      -1  157   \n",
              "4    98572c79      f028772b  ecad2386   7801e8d9  ...  1063  100083   33   \n",
              "\n",
              "     dt_hour  year  month  day  int_hour  is_weekday  is_weekend  \n",
              "0 2014-10-21  2014     10   21         0           1       False  \n",
              "1 2014-10-21  2014     10   21         0           1       False  \n",
              "2 2014-10-21  2014     10   21         0           1       False  \n",
              "3 2014-10-21  2014     10   21         0           1       False  \n",
              "4 2014-10-21  2014     10   21         0           1       False  \n",
              "\n",
              "[5 rows x 31 columns]"
            ],
            "text/html": [
              "<div>\n",
              "<style scoped>\n",
              "    .dataframe tbody tr th:only-of-type {\n",
              "        vertical-align: middle;\n",
              "    }\n",
              "\n",
              "    .dataframe tbody tr th {\n",
              "        vertical-align: top;\n",
              "    }\n",
              "\n",
              "    .dataframe thead th {\n",
              "        text-align: right;\n",
              "    }\n",
              "</style>\n",
              "<table border=\"1\" class=\"dataframe\">\n",
              "  <thead>\n",
              "    <tr style=\"text-align: right;\">\n",
              "      <th></th>\n",
              "      <th>id</th>\n",
              "      <th>click</th>\n",
              "      <th>hour</th>\n",
              "      <th>C1</th>\n",
              "      <th>banner_pos</th>\n",
              "      <th>site_id</th>\n",
              "      <th>site_domain</th>\n",
              "      <th>site_category</th>\n",
              "      <th>app_id</th>\n",
              "      <th>app_domain</th>\n",
              "      <th>...</th>\n",
              "      <th>C19</th>\n",
              "      <th>C20</th>\n",
              "      <th>C21</th>\n",
              "      <th>dt_hour</th>\n",
              "      <th>year</th>\n",
              "      <th>month</th>\n",
              "      <th>day</th>\n",
              "      <th>int_hour</th>\n",
              "      <th>is_weekday</th>\n",
              "      <th>is_weekend</th>\n",
              "    </tr>\n",
              "  </thead>\n",
              "  <tbody>\n",
              "    <tr>\n",
              "      <th>0</th>\n",
              "      <td>10000679056417042096</td>\n",
              "      <td>0</td>\n",
              "      <td>14102100</td>\n",
              "      <td>1005</td>\n",
              "      <td>1</td>\n",
              "      <td>fe8cc448</td>\n",
              "      <td>9166c161</td>\n",
              "      <td>0569f928</td>\n",
              "      <td>ecad2386</td>\n",
              "      <td>7801e8d9</td>\n",
              "      <td>...</td>\n",
              "      <td>35</td>\n",
              "      <td>-1</td>\n",
              "      <td>157</td>\n",
              "      <td>2014-10-21</td>\n",
              "      <td>2014</td>\n",
              "      <td>10</td>\n",
              "      <td>21</td>\n",
              "      <td>0</td>\n",
              "      <td>1</td>\n",
              "      <td>False</td>\n",
              "    </tr>\n",
              "    <tr>\n",
              "      <th>1</th>\n",
              "      <td>10010730108771379386</td>\n",
              "      <td>0</td>\n",
              "      <td>14102100</td>\n",
              "      <td>1005</td>\n",
              "      <td>1</td>\n",
              "      <td>e151e245</td>\n",
              "      <td>7e091613</td>\n",
              "      <td>f028772b</td>\n",
              "      <td>ecad2386</td>\n",
              "      <td>7801e8d9</td>\n",
              "      <td>...</td>\n",
              "      <td>39</td>\n",
              "      <td>-1</td>\n",
              "      <td>23</td>\n",
              "      <td>2014-10-21</td>\n",
              "      <td>2014</td>\n",
              "      <td>10</td>\n",
              "      <td>21</td>\n",
              "      <td>0</td>\n",
              "      <td>1</td>\n",
              "      <td>False</td>\n",
              "    </tr>\n",
              "    <tr>\n",
              "      <th>2</th>\n",
              "      <td>10017325201002992404</td>\n",
              "      <td>1</td>\n",
              "      <td>14102100</td>\n",
              "      <td>1005</td>\n",
              "      <td>0</td>\n",
              "      <td>1fbe01fe</td>\n",
              "      <td>f3845767</td>\n",
              "      <td>28905ebd</td>\n",
              "      <td>ecad2386</td>\n",
              "      <td>7801e8d9</td>\n",
              "      <td>...</td>\n",
              "      <td>35</td>\n",
              "      <td>-1</td>\n",
              "      <td>79</td>\n",
              "      <td>2014-10-21</td>\n",
              "      <td>2014</td>\n",
              "      <td>10</td>\n",
              "      <td>21</td>\n",
              "      <td>0</td>\n",
              "      <td>1</td>\n",
              "      <td>False</td>\n",
              "    </tr>\n",
              "    <tr>\n",
              "      <th>3</th>\n",
              "      <td>10018897422996679694</td>\n",
              "      <td>0</td>\n",
              "      <td>14102100</td>\n",
              "      <td>1005</td>\n",
              "      <td>1</td>\n",
              "      <td>e151e245</td>\n",
              "      <td>7e091613</td>\n",
              "      <td>f028772b</td>\n",
              "      <td>ecad2386</td>\n",
              "      <td>7801e8d9</td>\n",
              "      <td>...</td>\n",
              "      <td>39</td>\n",
              "      <td>-1</td>\n",
              "      <td>157</td>\n",
              "      <td>2014-10-21</td>\n",
              "      <td>2014</td>\n",
              "      <td>10</td>\n",
              "      <td>21</td>\n",
              "      <td>0</td>\n",
              "      <td>1</td>\n",
              "      <td>False</td>\n",
              "    </tr>\n",
              "    <tr>\n",
              "      <th>4</th>\n",
              "      <td>10024660782388112342</td>\n",
              "      <td>1</td>\n",
              "      <td>14102100</td>\n",
              "      <td>1005</td>\n",
              "      <td>1</td>\n",
              "      <td>d9750ee7</td>\n",
              "      <td>98572c79</td>\n",
              "      <td>f028772b</td>\n",
              "      <td>ecad2386</td>\n",
              "      <td>7801e8d9</td>\n",
              "      <td>...</td>\n",
              "      <td>1063</td>\n",
              "      <td>100083</td>\n",
              "      <td>33</td>\n",
              "      <td>2014-10-21</td>\n",
              "      <td>2014</td>\n",
              "      <td>10</td>\n",
              "      <td>21</td>\n",
              "      <td>0</td>\n",
              "      <td>1</td>\n",
              "      <td>False</td>\n",
              "    </tr>\n",
              "  </tbody>\n",
              "</table>\n",
              "<p>5 rows × 31 columns</p>\n",
              "</div>"
            ]
          },
          "metadata": {
            "tags": []
          },
          "execution_count": 8
        }
      ]
    },
    {
      "cell_type": "code",
      "metadata": {
        "trusted": true,
        "id": "hrPWZxbLqgB1",
        "outputId": "c9e04e0c-3f26-41f8-8c0c-60cab2301c60"
      },
      "source": [
        "train_df.columns"
      ],
      "execution_count": null,
      "outputs": [
        {
          "output_type": "execute_result",
          "data": {
            "text/plain": [
              "Index(['id', 'click', 'hour', 'C1', 'banner_pos', 'site_id', 'site_domain',\n",
              "       'site_category', 'app_id', 'app_domain', 'app_category', 'device_id',\n",
              "       'device_ip', 'device_model', 'device_type', 'device_conn_type', 'C14',\n",
              "       'C15', 'C16', 'C17', 'C18', 'C19', 'C20', 'C21', 'dt_hour', 'year',\n",
              "       'month', 'day', 'int_hour', 'is_weekday', 'is_weekend'],\n",
              "      dtype='object')"
            ]
          },
          "metadata": {
            "tags": []
          },
          "execution_count": 9
        }
      ]
    },
    {
      "cell_type": "code",
      "metadata": {
        "trusted": true,
        "id": "YHv3t8mCqgB3",
        "outputId": "d02e5bf3-1c58-478e-9993-3b2dc13f6bf9"
      },
      "source": [
        "train_df.nunique()"
      ],
      "execution_count": null,
      "outputs": [
        {
          "output_type": "execute_result",
          "data": {
            "text/plain": [
              "id                  2000000\n",
              "click                     2\n",
              "hour                    240\n",
              "C1                        7\n",
              "banner_pos                7\n",
              "site_id                3008\n",
              "site_domain            3482\n",
              "site_category            24\n",
              "app_id                 3952\n",
              "app_domain              246\n",
              "app_category             26\n",
              "device_id            278330\n",
              "device_ip            963716\n",
              "device_model           5786\n",
              "device_type               5\n",
              "device_conn_type          4\n",
              "C14                    2351\n",
              "C15                       8\n",
              "C16                       9\n",
              "C17                     425\n",
              "C18                       4\n",
              "C19                      66\n",
              "C20                     165\n",
              "C21                      60\n",
              "dt_hour                 240\n",
              "year                      1\n",
              "month                     1\n",
              "day                      10\n",
              "int_hour                 24\n",
              "is_weekday                7\n",
              "is_weekend                2\n",
              "dtype: int64"
            ]
          },
          "metadata": {
            "tags": []
          },
          "execution_count": 10
        }
      ]
    },
    {
      "cell_type": "code",
      "metadata": {
        "trusted": true,
        "id": "iusXSsHrqgB5"
      },
      "source": [
        "label_col = \"click\"\n",
        "x_columns = set(list(train_df.columns)) - set([\"id\", \"site_id\", \"app_id\", \"hour\", \"dt_hour\", \"device_id\", \"device_ip\"] + [label_col])\n",
        "# x_columns"
      ],
      "execution_count": null,
      "outputs": []
    },
    {
      "cell_type": "code",
      "metadata": {
        "trusted": true,
        "id": "S_fz4k-lqgB7"
      },
      "source": [
        "x_train = train_df[x_columns]\n",
        "y_train = train_df[label_col]\n",
        "# x_train.head()"
      ],
      "execution_count": null,
      "outputs": []
    },
    {
      "cell_type": "code",
      "metadata": {
        "trusted": true,
        "id": "Sa3AIj9yqgB_",
        "outputId": "807ae824-ad84-46aa-92c2-7604aa0d21bd"
      },
      "source": [
        "x_train.nunique()"
      ],
      "execution_count": null,
      "outputs": [
        {
          "output_type": "execute_result",
          "data": {
            "text/plain": [
              "device_conn_type       4\n",
              "is_weekend             2\n",
              "day                   10\n",
              "int_hour              24\n",
              "year                   1\n",
              "C14                 2351\n",
              "banner_pos             7\n",
              "site_domain         3482\n",
              "device_type            5\n",
              "device_model        5786\n",
              "C21                   60\n",
              "C16                    9\n",
              "C20                  165\n",
              "C1                     7\n",
              "C18                    4\n",
              "app_category          26\n",
              "is_weekday             7\n",
              "C15                    8\n",
              "site_category         24\n",
              "C19                   66\n",
              "app_domain           246\n",
              "C17                  425\n",
              "month                  1\n",
              "dtype: int64"
            ]
          },
          "metadata": {
            "tags": []
          },
          "execution_count": 13
        }
      ]
    },
    {
      "cell_type": "code",
      "metadata": {
        "trusted": true,
        "id": "O_CffsAcqgCC"
      },
      "source": [
        "to_date_column(test_df)\n",
        "x_test = test_df[x_columns]\n",
        "# test_df.head()"
      ],
      "execution_count": null,
      "outputs": []
    },
    {
      "cell_type": "code",
      "metadata": {
        "trusted": true,
        "id": "8InShJ6PqgCE"
      },
      "source": [
        "del train_df\n",
        "del test_df"
      ],
      "execution_count": null,
      "outputs": []
    },
    {
      "cell_type": "code",
      "metadata": {
        "trusted": true,
        "id": "kSFB0IRBqgCG"
      },
      "source": [
        "from collections import defaultdict\n",
        "from sklearn.preprocessing import LabelEncoder\n",
        "\n",
        "\n",
        "x_train_len = len(x_train)\n",
        "n_df = pd.concat([x_train, x_test])"
      ],
      "execution_count": null,
      "outputs": []
    },
    {
      "cell_type": "code",
      "metadata": {
        "trusted": true,
        "id": "kfukuS2VqgCI",
        "outputId": "c6af8910-ef6e-4d9b-f55a-c21af4dbeac2"
      },
      "source": [
        "d = defaultdict(LabelEncoder)\n",
        "n_df = n_df.apply(lambda x: d[x.name].fit_transform(x))\n",
        "n_df.head()"
      ],
      "execution_count": null,
      "outputs": [
        {
          "output_type": "execute_result",
          "data": {
            "text/plain": [
              "   device_conn_type  is_weekend  day  int_hour  year  C14  banner_pos  \\\n",
              "0                 0           0    0         0     0  538           1   \n",
              "1                 0           0    0         0     0  726           1   \n",
              "2                 0           0    0         0     0  269           0   \n",
              "3                 0           0    0         0     0  691           1   \n",
              "4                 0           0    0         0     0  351           1   \n",
              "\n",
              "   site_domain  device_type  device_model  ...  C1  C18  app_category  \\\n",
              "0         2462            1          2937  ...   2    0             0   \n",
              "1         2144            1          5045  ...   2    3             0   \n",
              "2         4086            1          4093  ...   2    0             0   \n",
              "3         2144            1          2912  ...   2    0             0   \n",
              "4         2586            1          3276  ...   2    2             0   \n",
              "\n",
              "   is_weekday  C15  site_category  C19  app_domain  C17  month  \n",
              "0           1    3              0    2         140  106      0  \n",
              "1           1    3             23    4         140  159      0  \n",
              "2           1    3              2    2         140   54      0  \n",
              "3           1    3             23    4         140  149      0  \n",
              "4           1    3             23   52         140   89      0  \n",
              "\n",
              "[5 rows x 23 columns]"
            ],
            "text/html": [
              "<div>\n",
              "<style scoped>\n",
              "    .dataframe tbody tr th:only-of-type {\n",
              "        vertical-align: middle;\n",
              "    }\n",
              "\n",
              "    .dataframe tbody tr th {\n",
              "        vertical-align: top;\n",
              "    }\n",
              "\n",
              "    .dataframe thead th {\n",
              "        text-align: right;\n",
              "    }\n",
              "</style>\n",
              "<table border=\"1\" class=\"dataframe\">\n",
              "  <thead>\n",
              "    <tr style=\"text-align: right;\">\n",
              "      <th></th>\n",
              "      <th>device_conn_type</th>\n",
              "      <th>is_weekend</th>\n",
              "      <th>day</th>\n",
              "      <th>int_hour</th>\n",
              "      <th>year</th>\n",
              "      <th>C14</th>\n",
              "      <th>banner_pos</th>\n",
              "      <th>site_domain</th>\n",
              "      <th>device_type</th>\n",
              "      <th>device_model</th>\n",
              "      <th>...</th>\n",
              "      <th>C1</th>\n",
              "      <th>C18</th>\n",
              "      <th>app_category</th>\n",
              "      <th>is_weekday</th>\n",
              "      <th>C15</th>\n",
              "      <th>site_category</th>\n",
              "      <th>C19</th>\n",
              "      <th>app_domain</th>\n",
              "      <th>C17</th>\n",
              "      <th>month</th>\n",
              "    </tr>\n",
              "  </thead>\n",
              "  <tbody>\n",
              "    <tr>\n",
              "      <th>0</th>\n",
              "      <td>0</td>\n",
              "      <td>0</td>\n",
              "      <td>0</td>\n",
              "      <td>0</td>\n",
              "      <td>0</td>\n",
              "      <td>538</td>\n",
              "      <td>1</td>\n",
              "      <td>2462</td>\n",
              "      <td>1</td>\n",
              "      <td>2937</td>\n",
              "      <td>...</td>\n",
              "      <td>2</td>\n",
              "      <td>0</td>\n",
              "      <td>0</td>\n",
              "      <td>1</td>\n",
              "      <td>3</td>\n",
              "      <td>0</td>\n",
              "      <td>2</td>\n",
              "      <td>140</td>\n",
              "      <td>106</td>\n",
              "      <td>0</td>\n",
              "    </tr>\n",
              "    <tr>\n",
              "      <th>1</th>\n",
              "      <td>0</td>\n",
              "      <td>0</td>\n",
              "      <td>0</td>\n",
              "      <td>0</td>\n",
              "      <td>0</td>\n",
              "      <td>726</td>\n",
              "      <td>1</td>\n",
              "      <td>2144</td>\n",
              "      <td>1</td>\n",
              "      <td>5045</td>\n",
              "      <td>...</td>\n",
              "      <td>2</td>\n",
              "      <td>3</td>\n",
              "      <td>0</td>\n",
              "      <td>1</td>\n",
              "      <td>3</td>\n",
              "      <td>23</td>\n",
              "      <td>4</td>\n",
              "      <td>140</td>\n",
              "      <td>159</td>\n",
              "      <td>0</td>\n",
              "    </tr>\n",
              "    <tr>\n",
              "      <th>2</th>\n",
              "      <td>0</td>\n",
              "      <td>0</td>\n",
              "      <td>0</td>\n",
              "      <td>0</td>\n",
              "      <td>0</td>\n",
              "      <td>269</td>\n",
              "      <td>0</td>\n",
              "      <td>4086</td>\n",
              "      <td>1</td>\n",
              "      <td>4093</td>\n",
              "      <td>...</td>\n",
              "      <td>2</td>\n",
              "      <td>0</td>\n",
              "      <td>0</td>\n",
              "      <td>1</td>\n",
              "      <td>3</td>\n",
              "      <td>2</td>\n",
              "      <td>2</td>\n",
              "      <td>140</td>\n",
              "      <td>54</td>\n",
              "      <td>0</td>\n",
              "    </tr>\n",
              "    <tr>\n",
              "      <th>3</th>\n",
              "      <td>0</td>\n",
              "      <td>0</td>\n",
              "      <td>0</td>\n",
              "      <td>0</td>\n",
              "      <td>0</td>\n",
              "      <td>691</td>\n",
              "      <td>1</td>\n",
              "      <td>2144</td>\n",
              "      <td>1</td>\n",
              "      <td>2912</td>\n",
              "      <td>...</td>\n",
              "      <td>2</td>\n",
              "      <td>0</td>\n",
              "      <td>0</td>\n",
              "      <td>1</td>\n",
              "      <td>3</td>\n",
              "      <td>23</td>\n",
              "      <td>4</td>\n",
              "      <td>140</td>\n",
              "      <td>149</td>\n",
              "      <td>0</td>\n",
              "    </tr>\n",
              "    <tr>\n",
              "      <th>4</th>\n",
              "      <td>0</td>\n",
              "      <td>0</td>\n",
              "      <td>0</td>\n",
              "      <td>0</td>\n",
              "      <td>0</td>\n",
              "      <td>351</td>\n",
              "      <td>1</td>\n",
              "      <td>2586</td>\n",
              "      <td>1</td>\n",
              "      <td>3276</td>\n",
              "      <td>...</td>\n",
              "      <td>2</td>\n",
              "      <td>2</td>\n",
              "      <td>0</td>\n",
              "      <td>1</td>\n",
              "      <td>3</td>\n",
              "      <td>23</td>\n",
              "      <td>52</td>\n",
              "      <td>140</td>\n",
              "      <td>89</td>\n",
              "      <td>0</td>\n",
              "    </tr>\n",
              "  </tbody>\n",
              "</table>\n",
              "<p>5 rows × 23 columns</p>\n",
              "</div>"
            ]
          },
          "metadata": {
            "tags": []
          },
          "execution_count": 17
        }
      ]
    },
    {
      "cell_type": "code",
      "metadata": {
        "trusted": true,
        "id": "p-fPb1WeqgCK"
      },
      "source": [
        "# n_df = pd.get_dummies(n_df)"
      ],
      "execution_count": null,
      "outputs": []
    },
    {
      "cell_type": "code",
      "metadata": {
        "trusted": true,
        "id": "G8BUNahqqgCM",
        "outputId": "d1a24b52-eeea-48ed-96ff-0db07d056729"
      },
      "source": [
        "from sklearn import preprocessing\n",
        "from sklearn.preprocessing import StandardScaler\n",
        "\n",
        "\n",
        "scaler = StandardScaler()\n",
        "scaler.fit(n_df)\n",
        "n_df = scaler.transform(n_df)\n",
        "len(n_df)"
      ],
      "execution_count": null,
      "outputs": [
        {
          "output_type": "execute_result",
          "data": {
            "text/plain": [
              "5577464"
            ]
          },
          "metadata": {
            "tags": []
          },
          "execution_count": 32
        }
      ]
    },
    {
      "cell_type": "code",
      "metadata": {
        "trusted": true,
        "id": "MltunMR6qgCO"
      },
      "source": [
        "n_x_train = n_df[:x_train_len]\n",
        "n_x_test = n_df[x_train_len:]"
      ],
      "execution_count": null,
      "outputs": []
    },
    {
      "cell_type": "code",
      "metadata": {
        "trusted": true,
        "_kg_hide-input": true,
        "id": "zYMSA_qVqgCR",
        "outputId": "d12ad353-5e19-4f41-e492-9d4799393302"
      },
      "source": [
        "from sklearn.linear_model import LogisticRegression\n",
        "\n",
        "\n",
        "assert len(n_x_train) == len(y_train)\n",
        "clf = LogisticRegression(verbose=True)\n",
        "clf.fit(n_x_train, y_train)\n",
        "\n",
        "\n",
        "y_train_star = clf.predict(n_x_train)"
      ],
      "execution_count": null,
      "outputs": [
        {
          "output_type": "stream",
          "text": [
            "[Parallel(n_jobs=1)]: Using backend SequentialBackend with 1 concurrent workers.\n",
            "/opt/conda/lib/python3.7/site-packages/sklearn/linear_model/_logistic.py:764: ConvergenceWarning: lbfgs failed to converge (status=1):\n",
            "STOP: TOTAL NO. of ITERATIONS REACHED LIMIT.\n",
            "\n",
            "Increase the number of iterations (max_iter) or scale the data as shown in:\n",
            "    https://scikit-learn.org/stable/modules/preprocessing.html\n",
            "Please also refer to the documentation for alternative solver options:\n",
            "    https://scikit-learn.org/stable/modules/linear_model.html#logistic-regression\n",
            "  extra_warning_msg=_LOGISTIC_SOLVER_CONVERGENCE_MSG)\n",
            "[Parallel(n_jobs=1)]: Done   1 out of   1 | elapsed:   24.3s finished\n"
          ],
          "name": "stderr"
        }
      ]
    },
    {
      "cell_type": "code",
      "metadata": {
        "trusted": true,
        "id": "NHqPHfXGqgCT",
        "outputId": "6564c6e9-ba1c-4d09-ebac-b021784d67ab"
      },
      "source": [
        "from sklearn.metrics import log_loss\n",
        "\n",
        "\n",
        "log_loss(y_train, y_train_star)"
      ],
      "execution_count": null,
      "outputs": [
        {
          "output_type": "execute_result",
          "data": {
            "text/plain": [
              "5.862508288942948"
            ]
          },
          "metadata": {
            "tags": []
          },
          "execution_count": 20
        }
      ]
    },
    {
      "cell_type": "code",
      "metadata": {
        "trusted": true,
        "id": "8-BCl0w2qgCV",
        "outputId": "621410e7-6b85-443d-e48a-362927079ebe"
      },
      "source": [
        "from sklearn.metrics import accuracy_score, confusion_matrix, roc_auc_score, roc_curve\n",
        "\n",
        "accuracy_score(y_train, y_train_star)"
      ],
      "execution_count": null,
      "outputs": [
        {
          "output_type": "execute_result",
          "data": {
            "text/plain": [
              "0.830263"
            ]
          },
          "metadata": {
            "tags": []
          },
          "execution_count": 21
        }
      ]
    },
    {
      "cell_type": "code",
      "metadata": {
        "trusted": true,
        "id": "3H23C-1eqgCX",
        "outputId": "afb2c181-47f5-43af-d7f9-4d02c0e8adef"
      },
      "source": [
        "confusion_matrix(y_train, y_train_star)"
      ],
      "execution_count": null,
      "outputs": [
        {
          "output_type": "execute_result",
          "data": {
            "text/plain": [
              "array([[82255,   255],\n",
              "       [17331,   159]])"
            ]
          },
          "metadata": {
            "tags": []
          },
          "execution_count": 34
        }
      ]
    },
    {
      "cell_type": "code",
      "metadata": {
        "trusted": true,
        "id": "lusvuJrkqgCZ"
      },
      "source": [
        "y_test = clf.predict(n_x_test)"
      ],
      "execution_count": null,
      "outputs": []
    },
    {
      "cell_type": "code",
      "metadata": {
        "trusted": true,
        "id": "kq6XTsKrqgCc",
        "outputId": "c95266d1-1ddb-474c-a88e-1900577f2fcb"
      },
      "source": [
        "y_test = clf.predict_proba(n_x_test)\n",
        "print(clf.classes_)\n",
        "print(y_test.shape)\n",
        "print(y_test[3:5, ])\n",
        "\n",
        "y_test = y_test[:, 1]\n",
        "print(y_test.shape)\n",
        "print(y_test[3:5])"
      ],
      "execution_count": null,
      "outputs": [
        {
          "output_type": "stream",
          "text": [
            "[0 1]\n",
            "(4577464, 2)\n",
            "[[0.87962919 0.12037081]\n",
            " [0.89766382 0.10233618]]\n",
            "(4577464,)\n",
            "[0.12037081 0.10233618]\n"
          ],
          "name": "stdout"
        }
      ]
    },
    {
      "cell_type": "code",
      "metadata": {
        "trusted": true,
        "id": "FgbLHJwyqgCe",
        "outputId": "5c8cc4a0-e23e-4c3f-a820-831295b5f5dc"
      },
      "source": [
        "submission_df[\"click\"] = y_test\n",
        "# y_pred_proba.to_csv('submission.csv', index=False)\n",
        "submission_df.to_csv(\"submission.csv\", index=False)\n",
        "submission_df.head()"
      ],
      "execution_count": null,
      "outputs": [
        {
          "output_type": "execute_result",
          "data": {
            "text/plain": [
              "                     id     click\n",
              "0  10000174058809263569  0.147954\n",
              "1  10000182526920855428  0.163801\n",
              "2  10000554139829213984  0.173722\n",
              "3  10001094637809798845  0.120371\n",
              "4  10001377041558670745  0.102336"
            ],
            "text/html": [
              "<div>\n",
              "<style scoped>\n",
              "    .dataframe tbody tr th:only-of-type {\n",
              "        vertical-align: middle;\n",
              "    }\n",
              "\n",
              "    .dataframe tbody tr th {\n",
              "        vertical-align: top;\n",
              "    }\n",
              "\n",
              "    .dataframe thead th {\n",
              "        text-align: right;\n",
              "    }\n",
              "</style>\n",
              "<table border=\"1\" class=\"dataframe\">\n",
              "  <thead>\n",
              "    <tr style=\"text-align: right;\">\n",
              "      <th></th>\n",
              "      <th>id</th>\n",
              "      <th>click</th>\n",
              "    </tr>\n",
              "  </thead>\n",
              "  <tbody>\n",
              "    <tr>\n",
              "      <th>0</th>\n",
              "      <td>10000174058809263569</td>\n",
              "      <td>0.147954</td>\n",
              "    </tr>\n",
              "    <tr>\n",
              "      <th>1</th>\n",
              "      <td>10000182526920855428</td>\n",
              "      <td>0.163801</td>\n",
              "    </tr>\n",
              "    <tr>\n",
              "      <th>2</th>\n",
              "      <td>10000554139829213984</td>\n",
              "      <td>0.173722</td>\n",
              "    </tr>\n",
              "    <tr>\n",
              "      <th>3</th>\n",
              "      <td>10001094637809798845</td>\n",
              "      <td>0.120371</td>\n",
              "    </tr>\n",
              "    <tr>\n",
              "      <th>4</th>\n",
              "      <td>10001377041558670745</td>\n",
              "      <td>0.102336</td>\n",
              "    </tr>\n",
              "  </tbody>\n",
              "</table>\n",
              "</div>"
            ]
          },
          "metadata": {
            "tags": []
          },
          "execution_count": 35
        }
      ]
    }
  ]
}